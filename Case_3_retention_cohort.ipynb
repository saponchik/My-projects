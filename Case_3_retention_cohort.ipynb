{
 "cells": [
  {
   "cell_type": "markdown",
   "metadata": {},
   "source": [
    "Проект e-commerce: вариант 1 \n",
    "Продакт-менеджер Василий попросил вас проанализировать совершенные покупки и ответить на следующие вопросы:"
   ]
  },
  {
   "cell_type": "markdown",
   "metadata": {},
   "source": [
    "1. Сколько у нас пользователей, которые совершили покупку только один раз?  \n",
    "\n",
    "2. Сколько заказов в месяц в среднем не доставляется по разным причинам (вывести детализацию по причинам)? \n",
    "\n",
    "3. По каждому товару определить, в какой день недели товар чаще всего покупается. \n",
    "\n",
    "4. Сколько у каждого из пользователей в среднем покупок в неделю (по месяцам)? Не стоит забывать, что внутри месяца может быть не целое количество недель. Например, в ноябре 2021 года 4,28 недели. И внутри метрики это нужно учесть. \n",
    "\n",
    "5. Используя pandas, проведи когортный анализ пользователей. В период с января по декабрь выяви когорту с самым высоким retention на 3й месяц.  \n",
    "6. Часто для качественного анализа аудитории использую подходы, основанные на сегментации. Используя python, построй RFM-сегментацию пользователей, чтобы качественно оценить свою аудиторию. В кластеризации можешь выбрать следующие метрики: R - время от последней покупки пользователя до текущей даты, F - суммарное количество покупок у пользователя за всё время, M - сумма покупок за всё время. Подробно опиши, как ты создавал кластеры. Для каждого RFM-сегмента построй границы метрик recency, frequency и monetary для интерпретации этих кластеров. "
   ]
  },
  {
   "cell_type": "markdown",
   "metadata": {},
   "source": [
    " olist_customers_datase.csv — таблица с уникальными идентификаторами пользователей\n",
    "customer_id — позаказный идентификатор пользователя\n",
    "\n",
    "customer_unique_id —  уникальный идентификатор пользователя  (в идеальных данных не может быть двух пользователей с одинаковым значением, является уникальным айдишником пользователя)\n",
    "\n",
    "customer_zip_code_prefix —  почтовый индекс пользователя\n",
    "\n",
    "customer_city —  город доставки пользователя\n",
    "\n",
    "customer_state —  штат доставки пользователя\n",
    "\n",
    "\n",
    "\n",
    "olist_orders_dataset.csv —  таблица заказов\n",
    "order_id —  уникальный идентификатор заказа (номер чека)\n",
    "\n",
    "customer_id —  позаказный идентификатор пользователя\n",
    "\n",
    "order_status —  статус заказа\n",
    "\n",
    "order_purchase_timestamp —  время создания заказа\n",
    "\n",
    "order_approved_at —  время подтверждения оплаты заказа\n",
    "\n",
    "order_delivered_carrier_date —  время передачи заказа в логистическую службу\n",
    "\n",
    "order_delivered_customer_date —  время доставки заказа\n",
    "\n",
    "order_estimated_delivery_date —  обещанная дата доставки\n",
    "\n",
    "\n",
    "\n",
    "olist_order_items_dataset.csv —  товарные позиции, входящие в заказы\n",
    "order_id —  уникальный идентификатор заказа (номер чека)\n",
    "\n",
    "order_item_id —  идентификатор товара внутри одного заказа (не содержит информацию о количестве товаров)\n",
    "\n",
    "product_id —  уникальный идентефикатор товара (аналог штрихкода)\n",
    "\n",
    "seller_id — уникальный идентефикатор производителя товара\n",
    "\n",
    "shipping_limit_date —  максимальная дата доставки продавцом для передачи заказа партнеру по логистике\n",
    "\n",
    "price —  цена за единицу товара\n",
    "\n",
    "freight_value —  вес товара\n",
    "\n",
    "\n",
    "Уникальные статусы заказов в таблице olist_orders_dataset:\n",
    "\n",
    "created —  создан\n",
    "approved —  подтверждён\n",
    "invoiced —  выставлен счёт\n",
    "processing —  в процессе сборки заказа\n",
    "shipped —  отгружен со склада\n",
    "delivered —  доставлен пользователю\n",
    "unavailable —  недоступен\n",
    "canceled —  отменён"
   ]
  },
  {
   "cell_type": "code",
   "execution_count": null,
   "metadata": {},
   "outputs": [],
   "source": []
  },
  {
   "cell_type": "code",
   "execution_count": 1,
   "metadata": {},
   "outputs": [],
   "source": [
    "import pandas as pd\n",
    "import seaborn as sns\n",
    "import matplotlib.pyplot as plt\n",
    "import plotly.express as px\n",
    "import datetime as dt\n",
    "\n",
    "import numpy as np\n",
    "from textwrap import wrap"
   ]
  },
  {
   "cell_type": "code",
   "execution_count": 2,
   "metadata": {},
   "outputs": [],
   "source": [
    "customers = pd.read_csv('/mnt/HC_Volume_18315164/home-jupyter/jupyter-a-potapejko/apotapeiko/olist_customers_dataset.csv')\n",
    "orders = pd.read_csv('/mnt/HC_Volume_18315164/home-jupyter/jupyter-a-potapejko/apotapeiko/olist_orders_dataset.csv')\n",
    "items = pd.read_csv('/mnt/HC_Volume_18315164/home-jupyter/jupyter-a-potapejko/apotapeiko/olist_order_items_dataset.csv')"
   ]
  },
  {
   "cell_type": "markdown",
   "metadata": {},
   "source": [
    "Мерджим customers и orders и items разными группами"
   ]
  },
  {
   "cell_type": "code",
   "execution_count": 3,
   "metadata": {},
   "outputs": [],
   "source": [
    "cus_and_ord = customers.merge(orders, on=['customer_id', 'customer_id'])"
   ]
  },
  {
   "cell_type": "code",
   "execution_count": 4,
   "metadata": {},
   "outputs": [],
   "source": [
    "items_w_dates = items.merge(orders, on=['order_id', 'order_id'])"
   ]
  },
  {
   "cell_type": "markdown",
   "metadata": {},
   "source": [
    "### 1. Сколько у нас пользователей, которые совершили покупку только один раз?"
   ]
  },
  {
   "cell_type": "markdown",
   "metadata": {},
   "source": [
    "#### В этой и последующих задачах, где нужно посчитать покупки, за совершенную покупку предлагаю считать все заказы, которые в статусах: \n",
    "#processing - т.к. заказ уже оплачен\n",
    "#shipped - тоже самое\n",
    "#delivered - очевидно. \n",
    "\n",
    "Важно: есть около 10 заказов со статусом delivered, но без даты доставки\n",
    "при этом есть около 300-400 заказов, которые со статусом shipped, delivered, но с датой доставки. \n",
    "Их не убрал, но это обсуждаемо с постановщиком задачи. "
   ]
  },
  {
   "cell_type": "code",
   "execution_count": 5,
   "metadata": {},
   "outputs": [
    {
     "data": {
      "text/plain": [
       "(91540, 2)"
      ]
     },
     "execution_count": 5,
     "metadata": {},
     "output_type": "execute_result"
    }
   ],
   "source": [
    "cus_and_ord \\\n",
    "    .query(\"order_status not in ('invoiced', 'processing', 'unavailable', 'canceled', 'created')\") \\\n",
    "    .groupby('customer_unique_id', as_index=False) \\\n",
    "    .agg({'order_id': 'count'}) \\\n",
    "    .rename(columns={'order_id': 'quant_orders_per_customer'}) \\\n",
    "    .sort_values('quant_orders_per_customer', ascending=False) \\\n",
    "    .query(\"quant_orders_per_customer == 1\") \\\n",
    "    .shape"
   ]
  },
  {
   "cell_type": "markdown",
   "metadata": {},
   "source": [
    "### Ответ: пользователей совершивших только 1 заказ 91540"
   ]
  },
  {
   "cell_type": "markdown",
   "metadata": {},
   "source": [
    " "
   ]
  },
  {
   "cell_type": "markdown",
   "metadata": {},
   "source": [
    "### 2. Сколько заказов в месяц в среднем не доставляется по разным причинам (вывести детализацию по причинам)?"
   ]
  },
  {
   "cell_type": "markdown",
   "metadata": {},
   "source": [
    "##### Из всех статусов заказа за 100% недоставленные предлагаю считать только отмененные и недоступные. Остальные статусы предполагают,что заказ еще может быть доставлен"
   ]
  },
  {
   "cell_type": "code",
   "execution_count": 6,
   "metadata": {},
   "outputs": [],
   "source": [
    "#Создаем новую колонку на начало месяца из колонки создания заказа\n",
    "orders['order_month'] = orders['order_purchase_timestamp'].to_numpy().astype('datetime64[M]')"
   ]
  },
  {
   "cell_type": "code",
   "execution_count": 7,
   "metadata": {},
   "outputs": [
    {
     "data": {
      "text/html": [
       "<div>\n",
       "<style scoped>\n",
       "    .dataframe tbody tr th:only-of-type {\n",
       "        vertical-align: middle;\n",
       "    }\n",
       "\n",
       "    .dataframe tbody tr th {\n",
       "        vertical-align: top;\n",
       "    }\n",
       "\n",
       "    .dataframe thead th {\n",
       "        text-align: right;\n",
       "    }\n",
       "</style>\n",
       "<table border=\"1\" class=\"dataframe\">\n",
       "  <thead>\n",
       "    <tr style=\"text-align: right;\">\n",
       "      <th></th>\n",
       "      <th>order_status</th>\n",
       "      <th>notdeliv_q</th>\n",
       "    </tr>\n",
       "  </thead>\n",
       "  <tbody>\n",
       "    <tr>\n",
       "      <th>0</th>\n",
       "      <td>canceled</td>\n",
       "      <td>26.0</td>\n",
       "    </tr>\n",
       "    <tr>\n",
       "      <th>1</th>\n",
       "      <td>unavailable</td>\n",
       "      <td>29.0</td>\n",
       "    </tr>\n",
       "  </tbody>\n",
       "</table>\n",
       "</div>"
      ],
      "text/plain": [
       "  order_status  notdeliv_q\n",
       "0     canceled        26.0\n",
       "1  unavailable        29.0"
      ]
     },
     "execution_count": 7,
     "metadata": {},
     "output_type": "execute_result"
    }
   ],
   "source": [
    "orders \\\n",
    "    .query(\"order_status in ('canceled', 'unavailable')\") \\\n",
    "    .groupby(['order_status', 'order_month'], as_index=False) \\\n",
    "    .agg({'order_id': 'count'}) \\\n",
    "    .rename(columns={'order_id': 'notdeliv_q'}) \\\n",
    "    .groupby(['order_status'], as_index=False) \\\n",
    "    .agg({'notdeliv_q': 'mean'}) \\\n",
    "    .round(0)"
   ]
  },
  {
   "cell_type": "markdown",
   "metadata": {},
   "source": [
    " "
   ]
  },
  {
   "cell_type": "markdown",
   "metadata": {},
   "source": [
    "### 3. По каждому товару определить, в какой день недели товар чаще всего покупается."
   ]
  },
  {
   "cell_type": "markdown",
   "metadata": {},
   "source": [
    "##### Предлагаю за покупку брать в этом случае желаение покупателя купить, а значит каждый оформленный заказ, независимо от дальнейшей судьбы заказа"
   ]
  },
  {
   "cell_type": "code",
   "execution_count": 8,
   "metadata": {},
   "outputs": [],
   "source": [
    "#Переводим колонку с временем создания заказа к нужному формату\n",
    "items_w_dates['order_purchase_timestamp'] = pd.to_datetime(items_w_dates['order_purchase_timestamp'])"
   ]
  },
  {
   "cell_type": "code",
   "execution_count": 9,
   "metadata": {},
   "outputs": [],
   "source": [
    "#Создаем новую колонку с номером недели\n",
    "items_w_dates['day_of_week'] = items_w_dates['order_purchase_timestamp'].dt.day_name()"
   ]
  },
  {
   "cell_type": "code",
   "execution_count": 10,
   "metadata": {},
   "outputs": [],
   "source": [
    "#Отфильруем по общему количеству покупок в каждый из дней недели не менее 10, чтобы выборка была более репрезентативна\n",
    "products_per_week = items_w_dates \\\n",
    "    .query(\"order_status in ('processing', 'shipped', 'delivered')\") \\\n",
    "    .groupby(['product_id', 'day_of_week'], as_index=False) \\\n",
    "    .agg({'order_status': 'count'}) \\\n",
    "    .query(\"order_status > 9\") \\\n",
    "    .groupby(['product_id', 'day_of_week'], as_index=False) \\\n",
    "    .agg({'order_status': 'max'}) \\\n",
    "    .rename(columns={'order_status': 'max_orders_per_w'}) \\\n",
    "    .sort_values('max_orders_per_w', ascending=False) \\\n",
    "    .groupby(['product_id'], as_index=False).head(1)"
   ]
  },
  {
   "cell_type": "code",
   "execution_count": 11,
   "metadata": {},
   "outputs": [
    {
     "data": {
      "text/html": [
       "<div>\n",
       "<style scoped>\n",
       "    .dataframe tbody tr th:only-of-type {\n",
       "        vertical-align: middle;\n",
       "    }\n",
       "\n",
       "    .dataframe tbody tr th {\n",
       "        vertical-align: top;\n",
       "    }\n",
       "\n",
       "    .dataframe thead th {\n",
       "        text-align: right;\n",
       "    }\n",
       "</style>\n",
       "<table border=\"1\" class=\"dataframe\">\n",
       "  <thead>\n",
       "    <tr style=\"text-align: right;\">\n",
       "      <th></th>\n",
       "      <th>product_id</th>\n",
       "      <th>day_of_week</th>\n",
       "      <th>max_orders_per_w</th>\n",
       "    </tr>\n",
       "  </thead>\n",
       "  <tbody>\n",
       "    <tr>\n",
       "      <th>239</th>\n",
       "      <td>422879e10f46682990de24d770e7f83d</td>\n",
       "      <td>Wednesday</td>\n",
       "      <td>93</td>\n",
       "    </tr>\n",
       "    <tr>\n",
       "      <th>584</th>\n",
       "      <td>99a4788cb24856965c36a24e339b6058</td>\n",
       "      <td>Monday</td>\n",
       "      <td>92</td>\n",
       "    </tr>\n",
       "    <tr>\n",
       "      <th>645</th>\n",
       "      <td>aca2eb7d00ea1a7b8ebd4e68314663af</td>\n",
       "      <td>Thursday</td>\n",
       "      <td>89</td>\n",
       "    </tr>\n",
       "    <tr>\n",
       "      <th>336</th>\n",
       "      <td>53b36df67ebb7c41585e8d54d6772e08</td>\n",
       "      <td>Tuesday</td>\n",
       "      <td>76</td>\n",
       "    </tr>\n",
       "    <tr>\n",
       "      <th>201</th>\n",
       "      <td>389d119b48cf3043d311335e499d9c6b</td>\n",
       "      <td>Thursday</td>\n",
       "      <td>67</td>\n",
       "    </tr>\n",
       "    <tr>\n",
       "      <th>...</th>\n",
       "      <td>...</td>\n",
       "      <td>...</td>\n",
       "      <td>...</td>\n",
       "    </tr>\n",
       "    <tr>\n",
       "      <th>156</th>\n",
       "      <td>3225c54bb2785c33f49f50398fcdb88c</td>\n",
       "      <td>Friday</td>\n",
       "      <td>10</td>\n",
       "    </tr>\n",
       "    <tr>\n",
       "      <th>799</th>\n",
       "      <td>d5b703c271f43f9c588a6f512a00f77e</td>\n",
       "      <td>Thursday</td>\n",
       "      <td>10</td>\n",
       "    </tr>\n",
       "    <tr>\n",
       "      <th>807</th>\n",
       "      <td>db5efde3ad0cc579b130d71c4b2db522</td>\n",
       "      <td>Thursday</td>\n",
       "      <td>10</td>\n",
       "    </tr>\n",
       "    <tr>\n",
       "      <th>813</th>\n",
       "      <td>dc52f0f5d3ec37a93eaf956cde4e5d2c</td>\n",
       "      <td>Thursday</td>\n",
       "      <td>10</td>\n",
       "    </tr>\n",
       "    <tr>\n",
       "      <th>459</th>\n",
       "      <td>76d1a1a9d21ab677a61c3ae34b1b352f</td>\n",
       "      <td>Thursday</td>\n",
       "      <td>10</td>\n",
       "    </tr>\n",
       "  </tbody>\n",
       "</table>\n",
       "<p>312 rows × 3 columns</p>\n",
       "</div>"
      ],
      "text/plain": [
       "                           product_id day_of_week  max_orders_per_w\n",
       "239  422879e10f46682990de24d770e7f83d   Wednesday                93\n",
       "584  99a4788cb24856965c36a24e339b6058      Monday                92\n",
       "645  aca2eb7d00ea1a7b8ebd4e68314663af    Thursday                89\n",
       "336  53b36df67ebb7c41585e8d54d6772e08     Tuesday                76\n",
       "201  389d119b48cf3043d311335e499d9c6b    Thursday                67\n",
       "..                                ...         ...               ...\n",
       "156  3225c54bb2785c33f49f50398fcdb88c      Friday                10\n",
       "799  d5b703c271f43f9c588a6f512a00f77e    Thursday                10\n",
       "807  db5efde3ad0cc579b130d71c4b2db522    Thursday                10\n",
       "813  dc52f0f5d3ec37a93eaf956cde4e5d2c    Thursday                10\n",
       "459  76d1a1a9d21ab677a61c3ae34b1b352f    Thursday                10\n",
       "\n",
       "[312 rows x 3 columns]"
      ]
     },
     "execution_count": 11,
     "metadata": {},
     "output_type": "execute_result"
    }
   ],
   "source": [
    "#Итоговый DF\n",
    "products_per_week"
   ]
  },
  {
   "cell_type": "markdown",
   "metadata": {},
   "source": [
    "### 4. Сколько у каждого из пользователей в среднем покупок в неделю (по месяцам)? Не стоит забывать, что внутри месяца может быть не целое количество недель. Например, в ноябре 2021 года 4,28 недели. И внутри метрики это нужно учесть."
   ]
  },
  {
   "cell_type": "code",
   "execution_count": 12,
   "metadata": {},
   "outputs": [],
   "source": [
    "cus_and_ord['order_month'] = cus_and_ord['order_purchase_timestamp'].to_numpy().astype('datetime64[M]')"
   ]
  },
  {
   "cell_type": "code",
   "execution_count": 13,
   "metadata": {},
   "outputs": [],
   "source": [
    "buys_per_month_per_user = cus_and_ord \\\n",
    "    .query(\"order_status in ('processing', 'shipped', 'delivered')\") \\\n",
    "    .groupby(['customer_unique_id', 'order_month'], as_index=False) \\\n",
    "    .agg({'customer_city': 'count'}) \\\n",
    "    .rename(columns={'customer_city': 'q_buys'}) \\\n",
    "    .sort_values('q_buys', ascending = False)"
   ]
  },
  {
   "cell_type": "code",
   "execution_count": 14,
   "metadata": {},
   "outputs": [],
   "source": [
    "buys_per_month_per_user['days_in_month'] = buys_per_month_per_user['order_month'].dt.days_in_month "
   ]
  },
  {
   "cell_type": "code",
   "execution_count": 15,
   "metadata": {},
   "outputs": [],
   "source": [
    "buys_per_month_per_user['days_in_week'] = (buys_per_month_per_user['days_in_month'] / 7).round(2)"
   ]
  },
  {
   "cell_type": "code",
   "execution_count": 16,
   "metadata": {},
   "outputs": [],
   "source": [
    "buys_per_month_per_user['mean_buys_per_week'] = (buys_per_month_per_user['q_buys'] / buys_per_month_per_user['days_in_week']).round(2)"
   ]
  },
  {
   "cell_type": "code",
   "execution_count": 17,
   "metadata": {},
   "outputs": [],
   "source": [
    "mean_buys_per_week = buys_per_month_per_user[['customer_unique_id', 'order_month', 'mean_buys_per_week']]"
   ]
  },
  {
   "cell_type": "code",
   "execution_count": 18,
   "metadata": {},
   "outputs": [
    {
     "data": {
      "text/html": [
       "<div>\n",
       "<style scoped>\n",
       "    .dataframe tbody tr th:only-of-type {\n",
       "        vertical-align: middle;\n",
       "    }\n",
       "\n",
       "    .dataframe tbody tr th {\n",
       "        vertical-align: top;\n",
       "    }\n",
       "\n",
       "    .dataframe thead th {\n",
       "        text-align: right;\n",
       "    }\n",
       "</style>\n",
       "<table border=\"1\" class=\"dataframe\">\n",
       "  <thead>\n",
       "    <tr style=\"text-align: right;\">\n",
       "      <th></th>\n",
       "      <th>customer_unique_id</th>\n",
       "      <th>order_month</th>\n",
       "      <th>mean_buys_per_week</th>\n",
       "    </tr>\n",
       "  </thead>\n",
       "  <tbody>\n",
       "    <tr>\n",
       "      <th>7214</th>\n",
       "      <td>12f5d6e1cbf93dafd9dcc19095df0b3d</td>\n",
       "      <td>2017-01-01</td>\n",
       "      <td>1.35</td>\n",
       "    </tr>\n",
       "    <tr>\n",
       "      <th>68340</th>\n",
       "      <td>b4e4f24de1e8725b74e4a1f4975116ed</td>\n",
       "      <td>2018-02-01</td>\n",
       "      <td>1.00</td>\n",
       "    </tr>\n",
       "    <tr>\n",
       "      <th>23576</th>\n",
       "      <td>3e43e6105506432c953e165fb2acf44c</td>\n",
       "      <td>2018-02-01</td>\n",
       "      <td>1.00</td>\n",
       "    </tr>\n",
       "    <tr>\n",
       "      <th>61252</th>\n",
       "      <td>a239b8e2fbce33780f1f1912e2ee5275</td>\n",
       "      <td>2017-02-01</td>\n",
       "      <td>1.00</td>\n",
       "    </tr>\n",
       "    <tr>\n",
       "      <th>75634</th>\n",
       "      <td>c8460e4251689ba205045f3ea17884a1</td>\n",
       "      <td>2018-08-01</td>\n",
       "      <td>0.90</td>\n",
       "    </tr>\n",
       "    <tr>\n",
       "      <th>...</th>\n",
       "      <td>...</td>\n",
       "      <td>...</td>\n",
       "      <td>...</td>\n",
       "    </tr>\n",
       "    <tr>\n",
       "      <th>32364</th>\n",
       "      <td>559a8ee3945ef2efb08cf74e36c8b747</td>\n",
       "      <td>2018-04-01</td>\n",
       "      <td>0.23</td>\n",
       "    </tr>\n",
       "    <tr>\n",
       "      <th>32363</th>\n",
       "      <td>559a5f67ea052226bb24ee8da93df761</td>\n",
       "      <td>2018-01-01</td>\n",
       "      <td>0.23</td>\n",
       "    </tr>\n",
       "    <tr>\n",
       "      <th>32362</th>\n",
       "      <td>5599df2eeb9e2e4f377db24e09cb976f</td>\n",
       "      <td>2017-10-01</td>\n",
       "      <td>0.23</td>\n",
       "    </tr>\n",
       "    <tr>\n",
       "      <th>32361</th>\n",
       "      <td>5598995788d932aa2a2db20d45187139</td>\n",
       "      <td>2018-03-01</td>\n",
       "      <td>0.23</td>\n",
       "    </tr>\n",
       "    <tr>\n",
       "      <th>96558</th>\n",
       "      <td>ffffd2657e2aad2907e67c3e9daecbeb</td>\n",
       "      <td>2017-05-01</td>\n",
       "      <td>0.23</td>\n",
       "    </tr>\n",
       "  </tbody>\n",
       "</table>\n",
       "<p>96559 rows × 3 columns</p>\n",
       "</div>"
      ],
      "text/plain": [
       "                     customer_unique_id order_month  mean_buys_per_week\n",
       "7214   12f5d6e1cbf93dafd9dcc19095df0b3d  2017-01-01                1.35\n",
       "68340  b4e4f24de1e8725b74e4a1f4975116ed  2018-02-01                1.00\n",
       "23576  3e43e6105506432c953e165fb2acf44c  2018-02-01                1.00\n",
       "61252  a239b8e2fbce33780f1f1912e2ee5275  2017-02-01                1.00\n",
       "75634  c8460e4251689ba205045f3ea17884a1  2018-08-01                0.90\n",
       "...                                 ...         ...                 ...\n",
       "32364  559a8ee3945ef2efb08cf74e36c8b747  2018-04-01                0.23\n",
       "32363  559a5f67ea052226bb24ee8da93df761  2018-01-01                0.23\n",
       "32362  5599df2eeb9e2e4f377db24e09cb976f  2017-10-01                0.23\n",
       "32361  5598995788d932aa2a2db20d45187139  2018-03-01                0.23\n",
       "96558  ffffd2657e2aad2907e67c3e9daecbeb  2017-05-01                0.23\n",
       "\n",
       "[96559 rows x 3 columns]"
      ]
     },
     "execution_count": 18,
     "metadata": {},
     "output_type": "execute_result"
    }
   ],
   "source": [
    "#Итоговый DFс разбивкой по уникам и месяцам. \n",
    "#Бесполезный с точки зрения выводов ДФ, как по мне\n",
    "mean_buys_per_week"
   ]
  },
  {
   "cell_type": "markdown",
   "metadata": {},
   "source": [
    "### 5. Используя pandas, проведи когортный анализ пользователей. В период с января по декабрь выяви когорту с самым высоким retention на 3й месяц. "
   ]
  },
  {
   "cell_type": "code",
   "execution_count": 19,
   "metadata": {},
   "outputs": [],
   "source": [
    "cus_and_ord = cus_and_ord.rename(columns={'order_month': 'TransactionMonth'})"
   ]
  },
  {
   "cell_type": "code",
   "execution_count": 20,
   "metadata": {},
   "outputs": [],
   "source": [
    "cus_and_ord['order_day'] = cus_and_ord['order_purchase_timestamp'].to_numpy().astype('datetime64[D]')"
   ]
  },
  {
   "cell_type": "code",
   "execution_count": 21,
   "metadata": {},
   "outputs": [],
   "source": [
    "cohort = cus_and_ord.loc[(cus_and_ord['order_day'] >= '2017-01-01') &  (cus_and_ord['order_day'] <= '2017-12-31')]"
   ]
  },
  {
   "cell_type": "code",
   "execution_count": 22,
   "metadata": {},
   "outputs": [],
   "source": [
    "cohort = cohort.query(\"order_status in ('processing', 'shipped', 'delivered')\")"
   ]
  },
  {
   "cell_type": "code",
   "execution_count": 23,
   "metadata": {},
   "outputs": [],
   "source": [
    "cohort = cohort[['customer_unique_id', 'order_id', 'TransactionMonth', 'order_day']]"
   ]
  },
  {
   "cell_type": "code",
   "execution_count": 24,
   "metadata": {},
   "outputs": [],
   "source": [
    "cohort.set_index('customer_unique_id', inplace=True)"
   ]
  },
  {
   "cell_type": "code",
   "execution_count": 25,
   "metadata": {},
   "outputs": [],
   "source": [
    "cohort['CohortMonth']=cohort.groupby(level=0)['TransactionMonth'].min()"
   ]
  },
  {
   "cell_type": "code",
   "execution_count": 26,
   "metadata": {},
   "outputs": [],
   "source": [
    "cohort.reset_index(inplace=True)"
   ]
  },
  {
   "cell_type": "code",
   "execution_count": 27,
   "metadata": {},
   "outputs": [],
   "source": [
    "def get_date_int(df, column):\n",
    "    year = df[column].dt.year\n",
    "    month = df[column].dt.month\n",
    "    day = df[column].dt.day\n",
    "    return year, month, day\n",
    "\n",
    "# Получение целых чисел для частей даты\n",
    "transcation_year, transaction_month, _ = get_date_int(cohort, 'TransactionMonth')\n",
    "cohort_year, cohort_month, _ = get_date_int(cohort, 'CohortMonth')"
   ]
  },
  {
   "cell_type": "code",
   "execution_count": 28,
   "metadata": {},
   "outputs": [
    {
     "name": "stdout",
     "output_type": "stream",
     "text": [
      "                 customer_unique_id                          order_id  \\\n",
      "0  861eff4711a542e4b93843c6dd7febb0  00e7ee1b050b8499577073aeb2a297a1   \n",
      "1  4c93744516667ad3b8f1fb645a3116a4  5741ea1f91b5fbab2bd2dc653a5b5099   \n",
      "2  57b2a98a409812fe9618067b6b8ebe4f  1093c8304c7a003280dd34598194913d   \n",
      "3  2a7745e1ed516b289ed9b29c7d0539a5  8428e578bb1cf839ae26a6b7615502b9   \n",
      "4  918dc87cd72cd9f6ed4bd442ed785235  83d8f70418eefd96f37b483dff430305   \n",
      "\n",
      "  TransactionMonth  order_day CohortMonth  CohortIndex  \n",
      "0       2017-05-01 2017-05-16  2017-05-01            1  \n",
      "1       2017-09-01 2017-09-14  2017-09-01            1  \n",
      "2       2017-11-01 2017-11-16  2017-11-01            1  \n",
      "3       2017-11-01 2017-11-27  2017-11-01            1  \n",
      "4       2017-09-01 2017-09-09  2017-09-01            1  \n"
     ]
    }
   ],
   "source": [
    "#  Получаем разницу в годах\n",
    "years_diff = transcation_year - cohort_year\n",
    "\n",
    "# Считаем разницу в месяцах\n",
    "months_diff = transaction_month - cohort_month\n",
    "\n",
    "\n",
    "#Извлечем разницу в месяцах из всех предыдущих значений\n",
    "#В конце добавлено «+1», поэтому первый месяц помечен как 1 вместо 0 для облегчения интерпретации.\n",
    "\n",
    "\n",
    "cohort['CohortIndex'] = years_diff * 12 + months_diff  + 1 \n",
    "print(cohort.head(5))"
   ]
  },
  {
   "cell_type": "code",
   "execution_count": 29,
   "metadata": {},
   "outputs": [],
   "source": [
    "# Подсчет ежедневного активного пользователя с каждой когорты\n",
    "grouping = cohort.groupby(['CohortMonth', 'CohortIndex'])\n",
    "\n",
    "\n",
    "\n",
    "# Подсчет количества уникальных идентификаторов клиентов, попадающих в каждую группу CohortMonth и CohortIndex\n",
    "cohort_data = grouping['customer_unique_id'].apply(pd.Series.nunique)\n",
    "cohort_data = cohort_data.reset_index()\n",
    "\n",
    "\n",
    " # Присвоение имен столбцов фрейму данных, созданному выше\n",
    "cohort_counts = cohort_data.pivot(index='CohortMonth',\n",
    "                                 columns ='CohortIndex',\n",
    "                                 values = 'customer_unique_id')"
   ]
  },
  {
   "cell_type": "code",
   "execution_count": 30,
   "metadata": {},
   "outputs": [
    {
     "name": "stdout",
     "output_type": "stream",
     "text": [
      "CohortIndex      1     2     3     4     5     6     7    8    9    10   11  \\\n",
      "CohortMonth                                                                   \n",
      "2017-01-01    741.0   3.0   2.0   1.0   3.0   1.0   3.0  1.0  1.0  NaN  3.0   \n",
      "2017-02-01   1678.0   4.0   5.0   2.0   7.0   2.0   4.0  3.0  2.0  3.0  2.0   \n",
      "2017-03-01   2568.0  13.0   9.0  10.0   9.0   4.0   4.0  8.0  9.0  2.0  NaN   \n",
      "2017-04-01   2311.0  14.0   5.0   4.0   7.0   6.0   8.0  7.0  7.0  NaN  NaN   \n",
      "2017-05-01   3525.0  17.0  17.0  14.0  11.0  12.0  15.0  5.0  NaN  NaN  NaN   \n",
      "2017-06-01   3094.0  14.0  11.0  12.0   8.0  11.0  11.0  NaN  NaN  NaN  NaN   \n",
      "2017-07-01   3816.0  20.0  13.0   9.0  11.0   8.0   NaN  NaN  NaN  NaN  NaN   \n",
      "2017-08-01   4112.0  28.0  14.0  11.0  15.0   NaN   NaN  NaN  NaN  NaN  NaN   \n",
      "2017-09-01   4061.0  28.0  22.0  12.0   NaN   NaN   NaN  NaN  NaN  NaN  NaN   \n",
      "2017-10-01   4378.0  31.0  11.0   NaN   NaN   NaN   NaN  NaN  NaN  NaN  NaN   \n",
      "2017-11-01   7156.0  40.0   NaN   NaN   NaN   NaN   NaN  NaN  NaN  NaN  NaN   \n",
      "2017-12-01   5424.0   NaN   NaN   NaN   NaN   NaN   NaN  NaN  NaN  NaN  NaN   \n",
      "\n",
      "CohortIndex   12  \n",
      "CohortMonth       \n",
      "2017-01-01   1.0  \n",
      "2017-02-01   NaN  \n",
      "2017-03-01   NaN  \n",
      "2017-04-01   NaN  \n",
      "2017-05-01   NaN  \n",
      "2017-06-01   NaN  \n",
      "2017-07-01   NaN  \n",
      "2017-08-01   NaN  \n",
      "2017-09-01   NaN  \n",
      "2017-10-01   NaN  \n",
      "2017-11-01   NaN  \n",
      "2017-12-01   NaN  \n"
     ]
    }
   ],
   "source": [
    "print(cohort_counts.round(1))"
   ]
  },
  {
   "cell_type": "code",
   "execution_count": 31,
   "metadata": {},
   "outputs": [],
   "source": [
    "# Выберем первый столбец и сохраним его в cohort_sizes как размер когорты - не активный клиент в первый день\n",
    "# Мы будем хранить 1-й столбец как размер группы, т.е. общее количество клиентов в этой группе.\n",
    "\n",
    "\n",
    "cohort_sizes = cohort_counts.iloc[:,0]\n",
    "\n",
    "#Разделим значения в других столбцах на размер когорты, чтобы рассчитать коэффициент удержания, \n",
    "#т.е. количество клиентов в индексе каждой когорты.\n",
    "\n",
    "retention = cohort_counts.divide(cohort_sizes, axis=0)"
   ]
  },
  {
   "cell_type": "code",
   "execution_count": 32,
   "metadata": {},
   "outputs": [
    {
     "data": {
      "text/html": [
       "<div>\n",
       "<style scoped>\n",
       "    .dataframe tbody tr th:only-of-type {\n",
       "        vertical-align: middle;\n",
       "    }\n",
       "\n",
       "    .dataframe tbody tr th {\n",
       "        vertical-align: top;\n",
       "    }\n",
       "\n",
       "    .dataframe thead th {\n",
       "        text-align: right;\n",
       "    }\n",
       "</style>\n",
       "<table border=\"1\" class=\"dataframe\">\n",
       "  <thead>\n",
       "    <tr style=\"text-align: right;\">\n",
       "      <th>CohortIndex</th>\n",
       "      <th>1</th>\n",
       "      <th>2</th>\n",
       "      <th>3</th>\n",
       "      <th>4</th>\n",
       "      <th>5</th>\n",
       "      <th>6</th>\n",
       "      <th>7</th>\n",
       "      <th>8</th>\n",
       "      <th>9</th>\n",
       "      <th>10</th>\n",
       "      <th>11</th>\n",
       "      <th>12</th>\n",
       "    </tr>\n",
       "    <tr>\n",
       "      <th>CohortMonth</th>\n",
       "      <th></th>\n",
       "      <th></th>\n",
       "      <th></th>\n",
       "      <th></th>\n",
       "      <th></th>\n",
       "      <th></th>\n",
       "      <th></th>\n",
       "      <th></th>\n",
       "      <th></th>\n",
       "      <th></th>\n",
       "      <th></th>\n",
       "      <th></th>\n",
       "    </tr>\n",
       "  </thead>\n",
       "  <tbody>\n",
       "    <tr>\n",
       "      <th>2017-01-01</th>\n",
       "      <td>10.0</td>\n",
       "      <td>0.04</td>\n",
       "      <td>0.03</td>\n",
       "      <td>0.01</td>\n",
       "      <td>0.04</td>\n",
       "      <td>0.01</td>\n",
       "      <td>0.04</td>\n",
       "      <td>0.01</td>\n",
       "      <td>0.01</td>\n",
       "      <td>NaN</td>\n",
       "      <td>0.04</td>\n",
       "      <td>0.01</td>\n",
       "    </tr>\n",
       "    <tr>\n",
       "      <th>2017-02-01</th>\n",
       "      <td>10.0</td>\n",
       "      <td>0.02</td>\n",
       "      <td>0.03</td>\n",
       "      <td>0.01</td>\n",
       "      <td>0.04</td>\n",
       "      <td>0.01</td>\n",
       "      <td>0.02</td>\n",
       "      <td>0.02</td>\n",
       "      <td>0.01</td>\n",
       "      <td>0.02</td>\n",
       "      <td>0.01</td>\n",
       "      <td>NaN</td>\n",
       "    </tr>\n",
       "    <tr>\n",
       "      <th>2017-03-01</th>\n",
       "      <td>10.0</td>\n",
       "      <td>0.05</td>\n",
       "      <td>0.04</td>\n",
       "      <td>0.04</td>\n",
       "      <td>0.04</td>\n",
       "      <td>0.02</td>\n",
       "      <td>0.02</td>\n",
       "      <td>0.03</td>\n",
       "      <td>0.04</td>\n",
       "      <td>0.01</td>\n",
       "      <td>NaN</td>\n",
       "      <td>NaN</td>\n",
       "    </tr>\n",
       "    <tr>\n",
       "      <th>2017-04-01</th>\n",
       "      <td>10.0</td>\n",
       "      <td>0.06</td>\n",
       "      <td>0.02</td>\n",
       "      <td>0.02</td>\n",
       "      <td>0.03</td>\n",
       "      <td>0.03</td>\n",
       "      <td>0.03</td>\n",
       "      <td>0.03</td>\n",
       "      <td>0.03</td>\n",
       "      <td>NaN</td>\n",
       "      <td>NaN</td>\n",
       "      <td>NaN</td>\n",
       "    </tr>\n",
       "    <tr>\n",
       "      <th>2017-05-01</th>\n",
       "      <td>10.0</td>\n",
       "      <td>0.05</td>\n",
       "      <td>0.05</td>\n",
       "      <td>0.04</td>\n",
       "      <td>0.03</td>\n",
       "      <td>0.03</td>\n",
       "      <td>0.04</td>\n",
       "      <td>0.01</td>\n",
       "      <td>NaN</td>\n",
       "      <td>NaN</td>\n",
       "      <td>NaN</td>\n",
       "      <td>NaN</td>\n",
       "    </tr>\n",
       "    <tr>\n",
       "      <th>2017-06-01</th>\n",
       "      <td>10.0</td>\n",
       "      <td>0.05</td>\n",
       "      <td>0.04</td>\n",
       "      <td>0.04</td>\n",
       "      <td>0.03</td>\n",
       "      <td>0.04</td>\n",
       "      <td>0.04</td>\n",
       "      <td>NaN</td>\n",
       "      <td>NaN</td>\n",
       "      <td>NaN</td>\n",
       "      <td>NaN</td>\n",
       "      <td>NaN</td>\n",
       "    </tr>\n",
       "    <tr>\n",
       "      <th>2017-07-01</th>\n",
       "      <td>10.0</td>\n",
       "      <td>0.05</td>\n",
       "      <td>0.03</td>\n",
       "      <td>0.02</td>\n",
       "      <td>0.03</td>\n",
       "      <td>0.02</td>\n",
       "      <td>NaN</td>\n",
       "      <td>NaN</td>\n",
       "      <td>NaN</td>\n",
       "      <td>NaN</td>\n",
       "      <td>NaN</td>\n",
       "      <td>NaN</td>\n",
       "    </tr>\n",
       "    <tr>\n",
       "      <th>2017-08-01</th>\n",
       "      <td>10.0</td>\n",
       "      <td>0.07</td>\n",
       "      <td>0.03</td>\n",
       "      <td>0.03</td>\n",
       "      <td>0.04</td>\n",
       "      <td>NaN</td>\n",
       "      <td>NaN</td>\n",
       "      <td>NaN</td>\n",
       "      <td>NaN</td>\n",
       "      <td>NaN</td>\n",
       "      <td>NaN</td>\n",
       "      <td>NaN</td>\n",
       "    </tr>\n",
       "    <tr>\n",
       "      <th>2017-09-01</th>\n",
       "      <td>10.0</td>\n",
       "      <td>0.07</td>\n",
       "      <td>0.05</td>\n",
       "      <td>0.03</td>\n",
       "      <td>NaN</td>\n",
       "      <td>NaN</td>\n",
       "      <td>NaN</td>\n",
       "      <td>NaN</td>\n",
       "      <td>NaN</td>\n",
       "      <td>NaN</td>\n",
       "      <td>NaN</td>\n",
       "      <td>NaN</td>\n",
       "    </tr>\n",
       "    <tr>\n",
       "      <th>2017-10-01</th>\n",
       "      <td>10.0</td>\n",
       "      <td>0.07</td>\n",
       "      <td>0.03</td>\n",
       "      <td>NaN</td>\n",
       "      <td>NaN</td>\n",
       "      <td>NaN</td>\n",
       "      <td>NaN</td>\n",
       "      <td>NaN</td>\n",
       "      <td>NaN</td>\n",
       "      <td>NaN</td>\n",
       "      <td>NaN</td>\n",
       "      <td>NaN</td>\n",
       "    </tr>\n",
       "    <tr>\n",
       "      <th>2017-11-01</th>\n",
       "      <td>10.0</td>\n",
       "      <td>0.06</td>\n",
       "      <td>NaN</td>\n",
       "      <td>NaN</td>\n",
       "      <td>NaN</td>\n",
       "      <td>NaN</td>\n",
       "      <td>NaN</td>\n",
       "      <td>NaN</td>\n",
       "      <td>NaN</td>\n",
       "      <td>NaN</td>\n",
       "      <td>NaN</td>\n",
       "      <td>NaN</td>\n",
       "    </tr>\n",
       "    <tr>\n",
       "      <th>2017-12-01</th>\n",
       "      <td>10.0</td>\n",
       "      <td>NaN</td>\n",
       "      <td>NaN</td>\n",
       "      <td>NaN</td>\n",
       "      <td>NaN</td>\n",
       "      <td>NaN</td>\n",
       "      <td>NaN</td>\n",
       "      <td>NaN</td>\n",
       "      <td>NaN</td>\n",
       "      <td>NaN</td>\n",
       "      <td>NaN</td>\n",
       "      <td>NaN</td>\n",
       "    </tr>\n",
       "  </tbody>\n",
       "</table>\n",
       "</div>"
      ],
      "text/plain": [
       "CohortIndex    1     2     3     4     5     6     7     8     9     10    11  \\\n",
       "CohortMonth                                                                     \n",
       "2017-01-01   10.0  0.04  0.03  0.01  0.04  0.01  0.04  0.01  0.01   NaN  0.04   \n",
       "2017-02-01   10.0  0.02  0.03  0.01  0.04  0.01  0.02  0.02  0.01  0.02  0.01   \n",
       "2017-03-01   10.0  0.05  0.04  0.04  0.04  0.02  0.02  0.03  0.04  0.01   NaN   \n",
       "2017-04-01   10.0  0.06  0.02  0.02  0.03  0.03  0.03  0.03  0.03   NaN   NaN   \n",
       "2017-05-01   10.0  0.05  0.05  0.04  0.03  0.03  0.04  0.01   NaN   NaN   NaN   \n",
       "2017-06-01   10.0  0.05  0.04  0.04  0.03  0.04  0.04   NaN   NaN   NaN   NaN   \n",
       "2017-07-01   10.0  0.05  0.03  0.02  0.03  0.02   NaN   NaN   NaN   NaN   NaN   \n",
       "2017-08-01   10.0  0.07  0.03  0.03  0.04   NaN   NaN   NaN   NaN   NaN   NaN   \n",
       "2017-09-01   10.0  0.07  0.05  0.03   NaN   NaN   NaN   NaN   NaN   NaN   NaN   \n",
       "2017-10-01   10.0  0.07  0.03   NaN   NaN   NaN   NaN   NaN   NaN   NaN   NaN   \n",
       "2017-11-01   10.0  0.06   NaN   NaN   NaN   NaN   NaN   NaN   NaN   NaN   NaN   \n",
       "2017-12-01   10.0   NaN   NaN   NaN   NaN   NaN   NaN   NaN   NaN   NaN   NaN   \n",
       "\n",
       "CohortIndex    12  \n",
       "CohortMonth        \n",
       "2017-01-01   0.01  \n",
       "2017-02-01    NaN  \n",
       "2017-03-01    NaN  \n",
       "2017-04-01    NaN  \n",
       "2017-05-01    NaN  \n",
       "2017-06-01    NaN  \n",
       "2017-07-01    NaN  \n",
       "2017-08-01    NaN  \n",
       "2017-09-01    NaN  \n",
       "2017-10-01    NaN  \n",
       "2017-11-01    NaN  \n",
       "2017-12-01    NaN  "
      ]
     },
     "execution_count": 32,
     "metadata": {},
     "output_type": "execute_result"
    }
   ],
   "source": [
    "retention.round(3)*10"
   ]
  },
  {
   "cell_type": "code",
   "execution_count": 33,
   "metadata": {},
   "outputs": [
    {
     "data": {
      "image/png": "[encoded data removed]",
      "text/plain": [
       "<Figure size 1152x720 with 2 Axes>"
      ]
     },
     "metadata": {
      "needs_background": "light"
     },
     "output_type": "display_data"
    }
   ],
   "source": [
    "plt.figure(figsize=(16, 10))\n",
    "\n",
    "plt.title('Retantain rate по месяцам', fontsize = 14)\n",
    "\n",
    "sns.heatmap(retention, annot=True, fmt= '.1%',cmap='YlGnBu', vmin = 0.0 , vmax = 0.6)\n",
    "plt.ylabel('Месяц')\n",
    "plt.xlabel('Индекс')\n",
    "plt.yticks( rotation='360')\n",
    "plt.show()"
   ]
  },
  {
   "cell_type": "markdown",
   "metadata": {},
   "source": [
    "### 6. Часто для качественного анализа аудитории использую подходы, основанные на сегментации. Используя python, построй RFM-сегментацию пользователей, чтобы качественно оценить свою аудиторию. В кластеризации можешь выбрать следующие метрики: R - время от последней покупки пользователя до текущей даты, F - суммарное количество покупок у пользователя за всё время, M - сумма покупок за всё время. Подробно опиши, как ты создавал кластеры. Для каждого RFM-сегмента построй границы метрик recency, frequency и monetary для интерпретации этих кластеров.ер, в ноябре 2021 года 4,28 недели. И внутри метрики это нужно учесть."
   ]
  },
  {
   "cell_type": "code",
   "execution_count": 34,
   "metadata": {},
   "outputs": [],
   "source": [
    "rfm_total = cus_and_ord.merge(items, on=['order_id', 'order_id'])"
   ]
  },
  {
   "cell_type": "code",
   "execution_count": 35,
   "metadata": {},
   "outputs": [],
   "source": [
    "rfm_total['order_purchase_timestamp']= pd.to_datetime(rfm_total['order_purchase_timestamp'])"
   ]
  },
  {
   "cell_type": "code",
   "execution_count": 36,
   "metadata": {},
   "outputs": [],
   "source": [
    "rfm_total = rfm_total.query(\"order_status in ('processing', 'shipped', 'delivered')\")"
   ]
  },
  {
   "cell_type": "code",
   "execution_count": 37,
   "metadata": {},
   "outputs": [],
   "source": [
    "rfm_almost = rfm_total[['customer_unique_id', 'order_id', 'order_purchase_timestamp', 'order_item_id', 'product_id', 'price']]"
   ]
  },
  {
   "cell_type": "code",
   "execution_count": 38,
   "metadata": {},
   "outputs": [],
   "source": [
    "monetary_raw = rfm_almost \\\n",
    "    .groupby(['customer_unique_id', 'product_id', 'price'], as_index=False) \\\n",
    "    .agg({'order_item_id': 'nunique'}) \\\n",
    "    .rename(columns={'order_item_id': 'quantity_prod_per_user'})"
   ]
  },
  {
   "cell_type": "code",
   "execution_count": 39,
   "metadata": {},
   "outputs": [],
   "source": [
    "monetary_raw['sum_total'] = monetary_raw.price * monetary_raw.quantity_prod_per_user"
   ]
  },
  {
   "cell_type": "code",
   "execution_count": 40,
   "metadata": {},
   "outputs": [],
   "source": [
    "monetary = monetary_raw.groupby('customer_unique_id')['sum_total'].sum().reset_index()"
   ]
  },
  {
   "cell_type": "code",
   "execution_count": 41,
   "metadata": {},
   "outputs": [],
   "source": [
    "frequency = rfm_almost \\\n",
    "    .groupby(['customer_unique_id'], as_index=False) \\\n",
    "    .agg({'order_id': 'count'}) \\\n",
    "    .sort_values('order_id', ascending=False) \\\n",
    "    .rename(columns={'order_id': 'quantity_orders_per_user'})"
   ]
  },
  {
   "cell_type": "code",
   "execution_count": 42,
   "metadata": {},
   "outputs": [],
   "source": [
    "recency = rfm_almost.groupby('customer_unique_id')['order_purchase_timestamp'].max().to_frame().reset_index()\n",
    "recency = recency.rename(columns={'order_purchase_timestamp': 'last_purchase'})"
   ]
  },
  {
   "cell_type": "code",
   "execution_count": 43,
   "metadata": {},
   "outputs": [],
   "source": [
    "recency['last_purchase'] = recency['last_purchase'].to_numpy().astype('datetime64[D]')"
   ]
  },
  {
   "cell_type": "code",
   "execution_count": 44,
   "metadata": {},
   "outputs": [],
   "source": [
    "now = dt.datetime.today()\n",
    "recency['recency'] = recency['last_purchase'].apply(lambda x: (now - x).days)"
   ]
  },
  {
   "cell_type": "code",
   "execution_count": 45,
   "metadata": {},
   "outputs": [],
   "source": [
    "rfm = recency.merge(monetary,on='customer_unique_id').merge(frequency,on='customer_unique_id')"
   ]
  },
  {
   "cell_type": "code",
   "execution_count": 46,
   "metadata": {},
   "outputs": [],
   "source": [
    "rfm = rfm.rename(columns={'recency': 'Recency', \n",
    "                                        'sum_total': 'Monetary',\n",
    "                                        'quantity_orders_per_user': 'Frequency'})"
   ]
  },
  {
   "cell_type": "code",
   "execution_count": 47,
   "metadata": {},
   "outputs": [],
   "source": [
    "rfm = rfm[['customer_unique_id', 'Recency', 'Monetary', 'Frequency']]"
   ]
  },
  {
   "cell_type": "code",
   "execution_count": 48,
   "metadata": {},
   "outputs": [
    {
     "data": {
      "text/plain": [
       "{'Recency': {0.2: 1639.0, 0.4: 1724.0, 0.6: 1815.0, 0.8: 1930.0},\n",
       " 'Monetary': {0.2: 39.9, 0.4: 69.9, 0.6: 109.9, 0.8: 179.9}}"
      ]
     },
     "execution_count": 48,
     "metadata": {},
     "output_type": "execute_result"
    }
   ],
   "source": [
    "quintiles = rfm[['Recency', 'Monetary']].quantile([.2, .4, .6, .8]).to_dict()\n",
    "quintiles"
   ]
  },
  {
   "cell_type": "code",
   "execution_count": 49,
   "metadata": {},
   "outputs": [],
   "source": [
    "def r_score(x):\n",
    "    if x <= quintiles['Recency'][.2]:\n",
    "        return 5\n",
    "    elif x <= quintiles['Recency'][.4]:\n",
    "        return 4\n",
    "    elif x <= quintiles['Recency'][.6]:\n",
    "        return 3\n",
    "    elif x <= quintiles['Recency'][.8]:\n",
    "        return 2\n",
    "    else:\n",
    "        return 1\n",
    "    \n",
    "# по частотности - определили границе в ячейке выше (1 визит - рейтинг 1, 5+ визитов - 5)\n",
    "def f_score(x):\n",
    "    if x <= 1:\n",
    "        return 1\n",
    "    elif x <= 2:\n",
    "        return 2\n",
    "    elif x <= 3:\n",
    "        return 3\n",
    "    elif x <= 4:\n",
    "        return 4\n",
    "    else:\n",
    "        return 5 \n",
    "    \n",
    "def m_score(x):\n",
    "    if x <= quintiles['Monetary'][.2]:\n",
    "        return 1\n",
    "    elif x <= quintiles['Monetary'][.4]:\n",
    "        return 2\n",
    "    elif x <= quintiles['Monetary'][.6]:\n",
    "        return 3\n",
    "    elif x <= quintiles['Monetary'][.8]:\n",
    "        return 4\n",
    "    else:\n",
    "        return 5    "
   ]
  },
  {
   "cell_type": "code",
   "execution_count": 50,
   "metadata": {},
   "outputs": [],
   "source": [
    "rfm['R'] = rfm['Recency'].apply(lambda x: r_score(x))\n",
    "rfm['F'] = rfm['Frequency'].apply(lambda x: f_score(x))\n",
    "rfm['M'] = rfm['Monetary'].apply(lambda x: m_score(x))"
   ]
  },
  {
   "cell_type": "code",
   "execution_count": 51,
   "metadata": {},
   "outputs": [],
   "source": [
    "rfm['RFM Score'] = rfm['R'].map(str) + rfm['F'].map(str) + rfm['M'].map(str)"
   ]
  },
  {
   "cell_type": "code",
   "execution_count": 52,
   "metadata": {},
   "outputs": [
    {
     "data": {
      "text/html": [
       "<div>\n",
       "<style scoped>\n",
       "    .dataframe tbody tr th:only-of-type {\n",
       "        vertical-align: middle;\n",
       "    }\n",
       "\n",
       "    .dataframe tbody tr th {\n",
       "        vertical-align: top;\n",
       "    }\n",
       "\n",
       "    .dataframe thead th {\n",
       "        text-align: right;\n",
       "    }\n",
       "</style>\n",
       "<table border=\"1\" class=\"dataframe\">\n",
       "  <thead>\n",
       "    <tr style=\"text-align: right;\">\n",
       "      <th></th>\n",
       "      <th>customer_unique_id</th>\n",
       "      <th>Recency</th>\n",
       "      <th>Monetary</th>\n",
       "      <th>Frequency</th>\n",
       "      <th>R</th>\n",
       "      <th>F</th>\n",
       "      <th>M</th>\n",
       "      <th>RFM Score</th>\n",
       "      <th>Segment</th>\n",
       "    </tr>\n",
       "  </thead>\n",
       "  <tbody>\n",
       "    <tr>\n",
       "      <th>0</th>\n",
       "      <td>0000366f3b9a7992bf8c76cfdf3221e2</td>\n",
       "      <td>1658</td>\n",
       "      <td>129.90</td>\n",
       "      <td>1</td>\n",
       "      <td>4</td>\n",
       "      <td>1</td>\n",
       "      <td>4</td>\n",
       "      <td>414</td>\n",
       "      <td>Перспективные</td>\n",
       "    </tr>\n",
       "    <tr>\n",
       "      <th>1</th>\n",
       "      <td>0000b849f77a49e4a4ce2b2a4ca5be3f</td>\n",
       "      <td>1661</td>\n",
       "      <td>18.90</td>\n",
       "      <td>1</td>\n",
       "      <td>4</td>\n",
       "      <td>1</td>\n",
       "      <td>1</td>\n",
       "      <td>411</td>\n",
       "      <td>Перспективные</td>\n",
       "    </tr>\n",
       "    <tr>\n",
       "      <th>2</th>\n",
       "      <td>0000f46a3911fa3c0805444483337064</td>\n",
       "      <td>2084</td>\n",
       "      <td>69.00</td>\n",
       "      <td>1</td>\n",
       "      <td>1</td>\n",
       "      <td>1</td>\n",
       "      <td>2</td>\n",
       "      <td>112</td>\n",
       "      <td>Спят</td>\n",
       "    </tr>\n",
       "    <tr>\n",
       "      <th>3</th>\n",
       "      <td>0000f6ccb0745a6a4b88665a16c9f078</td>\n",
       "      <td>1868</td>\n",
       "      <td>25.99</td>\n",
       "      <td>1</td>\n",
       "      <td>2</td>\n",
       "      <td>1</td>\n",
       "      <td>1</td>\n",
       "      <td>211</td>\n",
       "      <td>Спят</td>\n",
       "    </tr>\n",
       "    <tr>\n",
       "      <th>4</th>\n",
       "      <td>0004aac84e0df4da2b147fca70cf8255</td>\n",
       "      <td>1835</td>\n",
       "      <td>180.00</td>\n",
       "      <td>1</td>\n",
       "      <td>2</td>\n",
       "      <td>1</td>\n",
       "      <td>5</td>\n",
       "      <td>215</td>\n",
       "      <td>Спят</td>\n",
       "    </tr>\n",
       "  </tbody>\n",
       "</table>\n",
       "</div>"
      ],
      "text/plain": [
       "                 customer_unique_id  Recency  Monetary  Frequency  R  F  M  \\\n",
       "0  0000366f3b9a7992bf8c76cfdf3221e2     1658    129.90          1  4  1  4   \n",
       "1  0000b849f77a49e4a4ce2b2a4ca5be3f     1661     18.90          1  4  1  1   \n",
       "2  0000f46a3911fa3c0805444483337064     2084     69.00          1  1  1  2   \n",
       "3  0000f6ccb0745a6a4b88665a16c9f078     1868     25.99          1  2  1  1   \n",
       "4  0004aac84e0df4da2b147fca70cf8255     1835    180.00          1  2  1  5   \n",
       "\n",
       "  RFM Score        Segment  \n",
       "0       414  Перспективные  \n",
       "1       411  Перспективные  \n",
       "2       112           Спят  \n",
       "3       211           Спят  \n",
       "4       215           Спят  "
      ]
     },
     "execution_count": 52,
     "metadata": {},
     "output_type": "execute_result"
    }
   ],
   "source": [
    "segt_map = {\n",
    "    r'[1-2][1-2]': 'Спят',\n",
    "    r'[1-2][3-4]': 'В риске',\n",
    "    r'[1-2]5': 'Нельзя потерять',\n",
    "    r'3[1-2]': 'Почти спят',\n",
    "    r'33': 'Нужно взбодрить',\n",
    "    r'[3-4][4-5]': 'Лояльные',\n",
    "    r'41': 'Перспективные',\n",
    "    r'51': 'Новые',\n",
    "    r'[4-5][2-3]': 'Потенциал лояльных',\n",
    "    r'5[4-5]': 'Чемпионы'\n",
    "}\n",
    "\n",
    "rfm['Segment'] = rfm['R'].map(str) + rfm['F'].map(str)\n",
    "rfm['Segment'] = rfm['Segment'].replace(segt_map, regex=True)\n",
    "rfm.head()"
   ]
  },
  {
   "cell_type": "code",
   "execution_count": 53,
   "metadata": {},
   "outputs": [
    {
     "data": {
      "image/png": "[encoded data removed]",
      "text/plain": [
       "<Figure size 720x288 with 2 Axes>"
      ]
     },
     "metadata": {
      "needs_background": "light"
     },
     "output_type": "display_data"
    },
    {
     "data": {
      "image/png": "[encoded data removed]",
      "text/plain": [
       "<Figure size 720x720 with 25 Axes>"
      ]
     },
     "metadata": {
      "needs_background": "light"
     },
     "output_type": "display_data"
    }
   ],
   "source": [
    "# plot the distribution of customers over R and F\n",
    "fig, axes = plt.subplots(nrows=1, ncols=2, figsize=(10, 4))\n",
    "\n",
    "for i, p in enumerate(['R', 'F']):\n",
    "    parameters = {'R':'Recency', 'F':'Frequency'}\n",
    "    y = rfm[p].value_counts().sort_index()\n",
    "    x = y.index\n",
    "    ax = axes[i]\n",
    "    bars = ax.bar(x, y, color='silver')\n",
    "    ax.set_frame_on(False)\n",
    "    ax.tick_params(left=False, labelleft=False, bottom=False)\n",
    "    ax.set_title('Distribution of {}'.format(parameters[p]),\n",
    "                fontsize=14)\n",
    "    for bar in bars:\n",
    "        value = bar.get_height()\n",
    "        if value == y.max():\n",
    "            bar.set_color('firebrick')\n",
    "        ax.text(bar.get_x() + bar.get_width() / 2,\n",
    "                value - 5,\n",
    "                '{}\\n({}%)'.format(int(value), int(value * 100 / y.sum())),\n",
    "               ha='center',\n",
    "               va='top',\n",
    "               color='w')\n",
    "\n",
    "plt.show()\n",
    "\n",
    "# plot the distribution of M for RF score\n",
    "fig, axes = plt.subplots(nrows=5, ncols=5,\n",
    "                         sharex=False, sharey=True,\n",
    "                         figsize=(10, 10))\n",
    "\n",
    "r_range = range(1, 6)\n",
    "f_range = range(1, 6)\n",
    "for r in r_range:\n",
    "    for f in f_range:\n",
    "        y = rfm[(rfm['R'] == r) & (rfm['F'] == f)]['M'].value_counts().sort_index()\n",
    "        x = y.index\n",
    "        ax = axes[r - 1, f - 1]\n",
    "        bars = ax.bar(x, y, color='silver')\n",
    "        if r == 5:\n",
    "            if f == 3:\n",
    "                ax.set_xlabel('{}\\nF'.format(f), va='top')\n",
    "            else:\n",
    "                ax.set_xlabel('{}\\n'.format(f), va='top')\n",
    "        if f == 1:\n",
    "            if r == 3:\n",
    "                ax.set_ylabel('R\\n{}'.format(r))\n",
    "            else:\n",
    "                ax.set_ylabel(r)\n",
    "        ax.set_frame_on(False)\n",
    "        ax.tick_params(left=False, labelleft=False, bottom=False)\n",
    "        ax.set_xticks(x)\n",
    "        ax.set_xticklabels(x, fontsize=8)\n",
    "\n",
    "        for bar in bars:\n",
    "            value = bar.get_height()\n",
    "            if value == y.max():\n",
    "                bar.set_color('firebrick')\n",
    "            ax.text(bar.get_x() + bar.get_width() / 2,\n",
    "                    value,\n",
    "                    int(value),\n",
    "                    ha='center',\n",
    "                    va='bottom',\n",
    "                    color='k')\n",
    "fig.suptitle('Distribution of M for each F and R',\n",
    "             fontsize=14)\n",
    "plt.tight_layout()\n",
    "plt.show()"
   ]
  },
  {
   "cell_type": "code",
   "execution_count": 54,
   "metadata": {},
   "outputs": [
    {
     "data": {
      "image/png": "[encoded data removed]",
      "text/plain": [
       "<Figure size 432x288 with 1 Axes>"
      ]
     },
     "metadata": {
      "needs_background": "light"
     },
     "output_type": "display_data"
    }
   ],
   "source": [
    "# count the number of customers in each segment\n",
    "segments_counts = rfm['Segment'].value_counts().sort_values(ascending=True)\n",
    "\n",
    "fig, ax = plt.subplots()\n",
    "\n",
    "bars = ax.barh(range(len(segments_counts)),\n",
    "              segments_counts,\n",
    "              color='silver')\n",
    "ax.set_frame_on(False)\n",
    "ax.tick_params(left=False,\n",
    "               bottom=False,\n",
    "               labelbottom=False)\n",
    "ax.set_yticks(range(len(segments_counts)))\n",
    "ax.set_yticklabels(segments_counts.index)\n",
    "\n",
    "for i, bar in enumerate(bars):\n",
    "        value = bar.get_width()\n",
    "        if segments_counts.index[i] in ['Чемпионы', 'Лояльные']:\n",
    "            bar.set_color('firebrick')\n",
    "        ax.text(value,\n",
    "                bar.get_y() + bar.get_height()/2,\n",
    "                '{:,} ({:}%)'.format(int(value),\n",
    "                                   int(value*100/segments_counts.sum())),\n",
    "                va='center',\n",
    "                ha='left'\n",
    "               )\n",
    "\n",
    "plt.show()"
   ]
  },
  {
   "cell_type": "code",
   "execution_count": 55,
   "metadata": {},
   "outputs": [],
   "source": [
    "#в итоговом анализе я не стал отсеивать каким-либо образом пользователей, т.к. наша задача оценить текущую собранную аудиторию\n",
    "#и по итогу мы ожидаемо получили, что большая часть людей находится во сне (даже учитывая что последняя покупка было совершена в\n",
    "#2018 году)\n",
    "#Далее задача проработать каждую группу по собственному сценарию и регулярно (раз в квартал, пол года, год) оценивать текущую аудиторию"
   ]
  },
  {
   "cell_type": "code",
   "execution_count": null,
   "metadata": {},
   "outputs": [],
   "source": []
  }
 ],
 "metadata": {
  "kernelspec": {
   "display_name": "Python 3",
   "language": "python",
   "name": "python3"
  },
  "language_info": {
   "codemirror_mode": {
    "name": "ipython",
    "version": 3
   },
   "file_extension": ".py",
   "mimetype": "text/x-python",
   "name": "python",
   "nbconvert_exporter": "python",
   "pygments_lexer": "ipython3",
   "version": "3.7.3"
  }
 },
 "nbformat": 4,
 "nbformat_minor": 4
}
