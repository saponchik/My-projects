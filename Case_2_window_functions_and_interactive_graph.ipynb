{
 "cells": [
  {
   "cell_type": "code",
   "execution_count": 1,
   "metadata": {},
   "outputs": [],
   "source": [
    "import pandas as pd\n",
    "import seaborn as sns\n",
    "import matplotlib.pyplot as plt\n",
    "import numpy as np"
   ]
  },
  {
   "cell_type": "markdown",
   "metadata": {},
   "source": [
    "Описание данных\n",
    "ads_data.csv – данные взаимодействий с рекламными объявлениями\n",
    "\n",
    "date – дата\n",
    "time – время\n",
    "event – действие (просмотр/клик)\n",
    "platform – платформа\n",
    "ad_id – id объявления\n",
    "client_union_id – id рекламного кабинета\n",
    "campaign_union_id – id рекламной кампании\n",
    "ad_cost_type – тип оплаты\n",
    "ad_cost – цена\n",
    "has_video – есть ли видео\n",
    "target_audience_count – размер аудитории\n",
    "ads_clients_data.csv – характеристики рекламных клиентов\n",
    "\n",
    "date – дата\n",
    "client_union_id – id рекламного кабинета\n",
    "community_id – id сообщества\n",
    "create_date – дата создания рекламного клиента"
   ]
  },
  {
   "cell_type": "code",
   "execution_count": 2,
   "metadata": {},
   "outputs": [],
   "source": [
    "ads_data = pd.read_csv('/mnt/HC_Volume_18315164/home-jupyter/jupyter-a-potapejko/shared/homeworks/python_ds_miniprojects/6/ads_data.csv')\n",
    "ads_clients_data = pd.read_csv('/mnt/HC_Volume_18315164/home-jupyter/jupyter-a-potapejko/shared/homeworks/python_ds_miniprojects/6/ads_clients_data.csv')"
   ]
  },
  {
   "cell_type": "code",
   "execution_count": 3,
   "metadata": {},
   "outputs": [
    {
     "data": {
      "text/html": [
       "<div>\n",
       "<style scoped>\n",
       "    .dataframe tbody tr th:only-of-type {\n",
       "        vertical-align: middle;\n",
       "    }\n",
       "\n",
       "    .dataframe tbody tr th {\n",
       "        vertical-align: top;\n",
       "    }\n",
       "\n",
       "    .dataframe thead th {\n",
       "        text-align: right;\n",
       "    }\n",
       "</style>\n",
       "<table border=\"1\" class=\"dataframe\">\n",
       "  <thead>\n",
       "    <tr style=\"text-align: right;\">\n",
       "      <th></th>\n",
       "      <th>date</th>\n",
       "      <th>time</th>\n",
       "      <th>event</th>\n",
       "      <th>platform</th>\n",
       "      <th>ad_id</th>\n",
       "      <th>client_union_id</th>\n",
       "      <th>campaign_union_id</th>\n",
       "      <th>ad_cost_type</th>\n",
       "      <th>ad_cost</th>\n",
       "      <th>has_video</th>\n",
       "      <th>target_audience_count</th>\n",
       "    </tr>\n",
       "  </thead>\n",
       "  <tbody>\n",
       "    <tr>\n",
       "      <th>0</th>\n",
       "      <td>2019-04-01</td>\n",
       "      <td>2019-04-01 00:00:48</td>\n",
       "      <td>view</td>\n",
       "      <td>android</td>\n",
       "      <td>45061</td>\n",
       "      <td>34734</td>\n",
       "      <td>45061</td>\n",
       "      <td>CPM</td>\n",
       "      <td>200.6</td>\n",
       "      <td>0</td>\n",
       "      <td>1955269</td>\n",
       "    </tr>\n",
       "    <tr>\n",
       "      <th>1</th>\n",
       "      <td>2019-04-01</td>\n",
       "      <td>2019-04-01 00:00:48</td>\n",
       "      <td>view</td>\n",
       "      <td>web</td>\n",
       "      <td>121288</td>\n",
       "      <td>121288</td>\n",
       "      <td>121288</td>\n",
       "      <td>CPM</td>\n",
       "      <td>187.4</td>\n",
       "      <td>0</td>\n",
       "      <td>232011</td>\n",
       "    </tr>\n",
       "    <tr>\n",
       "      <th>2</th>\n",
       "      <td>2019-04-01</td>\n",
       "      <td>2019-04-01 00:01:03</td>\n",
       "      <td>view</td>\n",
       "      <td>android</td>\n",
       "      <td>102737</td>\n",
       "      <td>102535</td>\n",
       "      <td>102564</td>\n",
       "      <td>CPC</td>\n",
       "      <td>60.7</td>\n",
       "      <td>0</td>\n",
       "      <td>4410</td>\n",
       "    </tr>\n",
       "    <tr>\n",
       "      <th>3</th>\n",
       "      <td>2019-04-01</td>\n",
       "      <td>2019-04-01 00:01:03</td>\n",
       "      <td>view</td>\n",
       "      <td>android</td>\n",
       "      <td>107564</td>\n",
       "      <td>106914</td>\n",
       "      <td>107564</td>\n",
       "      <td>CPM</td>\n",
       "      <td>217.3</td>\n",
       "      <td>0</td>\n",
       "      <td>62711</td>\n",
       "    </tr>\n",
       "    <tr>\n",
       "      <th>4</th>\n",
       "      <td>2019-04-01</td>\n",
       "      <td>2019-04-01 00:01:09</td>\n",
       "      <td>view</td>\n",
       "      <td>android</td>\n",
       "      <td>4922</td>\n",
       "      <td>37</td>\n",
       "      <td>4400</td>\n",
       "      <td>CPC</td>\n",
       "      <td>60.1</td>\n",
       "      <td>0</td>\n",
       "      <td>1183501</td>\n",
       "    </tr>\n",
       "  </tbody>\n",
       "</table>\n",
       "</div>"
      ],
      "text/plain": [
       "         date                 time event platform   ad_id  client_union_id  \\\n",
       "0  2019-04-01  2019-04-01 00:00:48  view  android   45061            34734   \n",
       "1  2019-04-01  2019-04-01 00:00:48  view      web  121288           121288   \n",
       "2  2019-04-01  2019-04-01 00:01:03  view  android  102737           102535   \n",
       "3  2019-04-01  2019-04-01 00:01:03  view  android  107564           106914   \n",
       "4  2019-04-01  2019-04-01 00:01:09  view  android    4922               37   \n",
       "\n",
       "   campaign_union_id ad_cost_type  ad_cost  has_video  target_audience_count  \n",
       "0              45061          CPM    200.6          0                1955269  \n",
       "1             121288          CPM    187.4          0                 232011  \n",
       "2             102564          CPC     60.7          0                   4410  \n",
       "3             107564          CPM    217.3          0                  62711  \n",
       "4               4400          CPC     60.1          0                1183501  "
      ]
     },
     "execution_count": 3,
     "metadata": {},
     "output_type": "execute_result"
    }
   ],
   "source": [
    "ads_data.head()"
   ]
  },
  {
   "cell_type": "code",
   "execution_count": 4,
   "metadata": {},
   "outputs": [
    {
     "data": {
      "text/plain": [
       "0          view\n",
       "1          view\n",
       "2          view\n",
       "3          view\n",
       "4          view\n",
       "          ...  \n",
       "999995     view\n",
       "999996     view\n",
       "999997    click\n",
       "999998     view\n",
       "999999     view\n",
       "Name: event, Length: 1000000, dtype: object"
      ]
     },
     "execution_count": 4,
     "metadata": {},
     "output_type": "execute_result"
    }
   ],
   "source": [
    "ads_data.event.fillna(0)"
   ]
  },
  {
   "cell_type": "markdown",
   "metadata": {},
   "source": [
    "Для начала посчитаем среднее количество разных рекламных событий (показы и клики) по объявлениям. Округлим ответы до целых чисел."
   ]
  },
  {
   "cell_type": "code",
   "execution_count": 5,
   "metadata": {},
   "outputs": [
    {
     "data": {
      "text/plain": [
       "event\n",
       "click    113.0\n",
       "view     923.0\n",
       "dtype: float64"
      ]
     },
     "execution_count": 5,
     "metadata": {},
     "output_type": "execute_result"
    }
   ],
   "source": [
    "ads_data \\\n",
    "    .groupby(['ad_id', 'event'], as_index=False) \\\n",
    "    .agg({'date': 'count'}) \\\n",
    "    .pivot(index='ad_id', columns='event', values='date') \\\n",
    "    .fillna(0).mean().round()"
   ]
  },
  {
   "cell_type": "markdown",
   "metadata": {},
   "source": [
    "Посмотрим на распределение показов объявлений\n",
    "\n",
    "По оси x – число показов\n",
    "По оси y – доля объявлений с такими показами\n"
   ]
  },
  {
   "cell_type": "code",
   "execution_count": 6,
   "metadata": {},
   "outputs": [],
   "source": [
    "ads_views = ads_data \\\n",
    "    .groupby(['ad_id', 'event'], as_index=False) \\\n",
    "    .agg({'date': 'count'}) \\\n",
    "    .query(\"event == 'view'\")"
   ]
  },
  {
   "cell_type": "code",
   "execution_count": 7,
   "metadata": {},
   "outputs": [],
   "source": [
    "ads_views.date = np.log(ads_views.date)"
   ]
  },
  {
   "cell_type": "code",
   "execution_count": 8,
   "metadata": {},
   "outputs": [
    {
     "data": {
      "text/html": [
       "<div>\n",
       "<style scoped>\n",
       "    .dataframe tbody tr th:only-of-type {\n",
       "        vertical-align: middle;\n",
       "    }\n",
       "\n",
       "    .dataframe tbody tr th {\n",
       "        vertical-align: top;\n",
       "    }\n",
       "\n",
       "    .dataframe thead th {\n",
       "        text-align: right;\n",
       "    }\n",
       "</style>\n",
       "<table border=\"1\" class=\"dataframe\">\n",
       "  <thead>\n",
       "    <tr style=\"text-align: right;\">\n",
       "      <th></th>\n",
       "      <th>ad_id</th>\n",
       "      <th>event</th>\n",
       "      <th>date</th>\n",
       "    </tr>\n",
       "  </thead>\n",
       "  <tbody>\n",
       "    <tr>\n",
       "      <th>1</th>\n",
       "      <td>2</td>\n",
       "      <td>view</td>\n",
       "      <td>4.615121</td>\n",
       "    </tr>\n",
       "    <tr>\n",
       "      <th>3</th>\n",
       "      <td>3</td>\n",
       "      <td>view</td>\n",
       "      <td>5.214936</td>\n",
       "    </tr>\n",
       "    <tr>\n",
       "      <th>5</th>\n",
       "      <td>1902</td>\n",
       "      <td>view</td>\n",
       "      <td>3.713572</td>\n",
       "    </tr>\n",
       "    <tr>\n",
       "      <th>6</th>\n",
       "      <td>2064</td>\n",
       "      <td>view</td>\n",
       "      <td>3.555348</td>\n",
       "    </tr>\n",
       "    <tr>\n",
       "      <th>8</th>\n",
       "      <td>2132</td>\n",
       "      <td>view</td>\n",
       "      <td>4.060443</td>\n",
       "    </tr>\n",
       "  </tbody>\n",
       "</table>\n",
       "</div>"
      ],
      "text/plain": [
       "   ad_id event      date\n",
       "1      2  view  4.615121\n",
       "3      3  view  5.214936\n",
       "5   1902  view  3.713572\n",
       "6   2064  view  3.555348\n",
       "8   2132  view  4.060443"
      ]
     },
     "execution_count": 8,
     "metadata": {},
     "output_type": "execute_result"
    }
   ],
   "source": [
    "ads_views.head()"
   ]
  },
  {
   "cell_type": "code",
   "execution_count": 9,
   "metadata": {},
   "outputs": [
    {
     "data": {
      "image/png": "[encoded data removed]",
      "text/plain": [
       "<Figure size 360x360 with 1 Axes>"
      ]
     },
     "metadata": {
      "needs_background": "light"
     },
     "output_type": "display_data"
    }
   ],
   "source": [
    "sns.displot(data=ads_views, x='date')\n",
    "sns.set(\n",
    "    font_scale=1,\n",
    "    style=\"whitegrid\",\n",
    "    rc={'figure.figsize':(20,7)}\n",
    "        )"
   ]
  },
  {
   "cell_type": "markdown",
   "metadata": {},
   "source": [
    "Найдем среднее количество показов на 1 объявление (ad_id) по дням, не учитывая объявления, у которых не было показов (обычное среднее). После этого посчитаем скользящее среднее по полученному результату с окном в 2 элемента."
   ]
  },
  {
   "cell_type": "code",
   "execution_count": 10,
   "metadata": {},
   "outputs": [],
   "source": [
    "ax_mean = ads_data \\\n",
    "    .query(\"event == 'view'\") \\\n",
    "    .groupby(['date', 'ad_id'], as_index=False) \\\n",
    "    .agg({'has_video': 'count'}) \\\n",
    "    .pivot(index='ad_id', columns='date', values='has_video') \\\n",
    "    .mean()"
   ]
  },
  {
   "cell_type": "code",
   "execution_count": 11,
   "metadata": {},
   "outputs": [
    {
     "data": {
      "text/plain": [
       "date\n",
       "2019-04-01    154.482270\n",
       "2019-04-02    137.786982\n",
       "2019-04-03    163.952778\n",
       "2019-04-04    675.901720\n",
       "2019-04-05    919.109677\n",
       "2019-04-06    277.122727\n",
       "dtype: float64"
      ]
     },
     "execution_count": 11,
     "metadata": {},
     "output_type": "execute_result"
    }
   ],
   "source": [
    "ax_mean"
   ]
  },
  {
   "cell_type": "code",
   "execution_count": 12,
   "metadata": {},
   "outputs": [],
   "source": [
    "ax_roll = ax_mean.rolling(2).mean().round()"
   ]
  },
  {
   "cell_type": "code",
   "execution_count": 13,
   "metadata": {},
   "outputs": [
    {
     "data": {
      "text/plain": [
       "date\n",
       "2019-04-01      NaN\n",
       "2019-04-02    146.0\n",
       "2019-04-03    151.0\n",
       "2019-04-04    420.0\n",
       "2019-04-05    798.0\n",
       "2019-04-06    598.0\n",
       "dtype: float64"
      ]
     },
     "execution_count": 13,
     "metadata": {},
     "output_type": "execute_result"
    }
   ],
   "source": [
    "ax_roll"
   ]
  },
  {
   "cell_type": "markdown",
   "metadata": {},
   "source": [
    "Нанесем на один график значения просто среднего количества показов по дням и скользящего среднего на основе этих данных\n",
    "\n",
    "Посчитаем в какой день наблюдается наибольшая разница по модулю между арифметическим средним и скользящим средним. Дни, в которых скользящее среднее равно NaN, не учитываем."
   ]
  },
  {
   "cell_type": "code",
   "execution_count": 225,
   "metadata": {},
   "outputs": [
    {
     "data": {
      "image/png": "[encoded data removed]",
      "text/plain": [
       "<Figure size 1440x504 with 1 Axes>"
      ]
     },
     "metadata": {},
     "output_type": "display_data"
    }
   ],
   "source": [
    "fig, ax = plt.subplots()\n",
    "sns.lineplot(data=ax_mean, ax=ax, label='usual')\n",
    "sns.lineplot(data=ax_roll, ax=ax, label='rolling')\n",
    "ax.tick_params(axis='x')"
   ]
  },
  {
   "cell_type": "markdown",
   "metadata": {},
   "source": [
    "Объединим данные рекламы с данными о рекламных клиентах и найдем среднее количество дней от даты создания рекламного клиента (create_date) и первым запуском рекламного объявления этим клиентом (date).\n",
    "\n",
    "Посчитаем среднее число дней."
   ]
  },
  {
   "cell_type": "code",
   "execution_count": 16,
   "metadata": {},
   "outputs": [],
   "source": [
    "ads_full = ads_data.merge(ads_clients_data, on='client_union_id')"
   ]
  },
  {
   "cell_type": "code",
   "execution_count": 17,
   "metadata": {},
   "outputs": [],
   "source": [
    "ads_full.create_date = pd.to_datetime(ads_full['create_date'])\n",
    "ads_full.date_x = pd.to_datetime(ads_full['date_x'])"
   ]
  },
  {
   "cell_type": "code",
   "execution_count": 18,
   "metadata": {},
   "outputs": [],
   "source": [
    "ads_full['diff_date'] = ads_full.date_x - ads_full.create_date"
   ]
  },
  {
   "cell_type": "code",
   "execution_count": 20,
   "metadata": {},
   "outputs": [],
   "source": [
    "ads_diff = ads_full \\\n",
    "    .groupby('client_union_id') \\\n",
    "    .agg({'diff_date': 'min'})"
   ]
  },
  {
   "cell_type": "code",
   "execution_count": 22,
   "metadata": {},
   "outputs": [
    {
     "data": {
      "text/plain": [
       "Timedelta('124 days 09:04:43.532219570')"
      ]
     },
     "execution_count": 22,
     "metadata": {},
     "output_type": "execute_result"
    }
   ],
   "source": [
    "ads_diff.mean().diff_date"
   ]
  },
  {
   "cell_type": "markdown",
   "metadata": {},
   "source": [
    "Вычислим конверсию из создания рекламного кабинета в запуск первой рекламы в течение не более 365 дней.\n",
    "Для удобства переведем в проценты и округлим до сотых. "
   ]
  },
  {
   "cell_type": "code",
   "execution_count": 23,
   "metadata": {},
   "outputs": [],
   "source": [
    "target_date_delta = pd.Timedelta(365, unit='day')"
   ]
  },
  {
   "cell_type": "code",
   "execution_count": 24,
   "metadata": {},
   "outputs": [],
   "source": [
    "target_date = ads_diff.diff_date < target_date_delta"
   ]
  },
  {
   "cell_type": "code",
   "execution_count": 25,
   "metadata": {},
   "outputs": [
    {
     "data": {
      "text/plain": [
       "0.69"
      ]
     },
     "execution_count": 25,
     "metadata": {},
     "output_type": "execute_result"
    }
   ],
   "source": [
    "(target_date.count() / ads_clients_data.client_union_id.nunique() * 100).round(2)"
   ]
  },
  {
   "cell_type": "code",
   "execution_count": 42,
   "metadata": {},
   "outputs": [
    {
     "data": {
      "text/plain": [
       "838"
      ]
     },
     "execution_count": 42,
     "metadata": {},
     "output_type": "execute_result"
    }
   ],
   "source": [
    "target_date.count()"
   ]
  },
  {
   "cell_type": "code",
   "execution_count": 47,
   "metadata": {},
   "outputs": [
    {
     "data": {
      "text/plain": [
       "122078"
      ]
     },
     "execution_count": 47,
     "metadata": {},
     "output_type": "execute_result"
    }
   ],
   "source": [
    "ads_clients_data.client_union_id.nunique()"
   ]
  },
  {
   "cell_type": "markdown",
   "metadata": {},
   "source": [
    "Разобъем наших клиентов по промежуткам от создания рекламного кабинета до запуска первого рекламного объявления.\n",
    "\n",
    "Определим, сколько уникальных клиентов запустили свое первое объявление в первый месяц своего существования (от 0 до 30 дней). "
   ]
  },
  {
   "cell_type": "code",
   "execution_count": 26,
   "metadata": {},
   "outputs": [
    {
     "data": {
      "text/plain": [
       "Timedelta('252 days 00:00:00')"
      ]
     },
     "execution_count": 26,
     "metadata": {},
     "output_type": "execute_result"
    }
   ],
   "source": [
    "ads_full.diff_date.max()"
   ]
  },
  {
   "cell_type": "code",
   "execution_count": 27,
   "metadata": {},
   "outputs": [],
   "source": [
    "ads_bins = ads_full \\\n",
    "    .groupby('client_union_id', as_index=False) \\\n",
    "    .agg({'diff_date': 'min'})\n",
    "\n",
    "ads_bins['diff_categorical'] = pd.cut(ads_bins.diff_date, bins   = pd.to_timedelta(['0d', '30d', '90d', '180d', '365d']),\n",
    "                                                          labels = ['0-30', '30-90', '90-180', '180-365'])    "
   ]
  },
  {
   "cell_type": "code",
   "execution_count": 28,
   "metadata": {},
   "outputs": [
    {
     "data": {
      "text/plain": [
       "90-180     396\n",
       "30-90      263\n",
       "180-365    168\n",
       "0-30        11\n",
       "Name: diff_categorical, dtype: int64"
      ]
     },
     "execution_count": 28,
     "metadata": {},
     "output_type": "execute_result"
    }
   ],
   "source": [
    "ads_bins.diff_categorical.value_counts()"
   ]
  },
  {
   "cell_type": "markdown",
   "metadata": {},
   "source": [
    "Построим интерактивный барплот, на котором будут показаны категории с количеством уникальных клиентов в них"
   ]
  },
  {
   "cell_type": "code",
   "execution_count": 31,
   "metadata": {},
   "outputs": [
    {
     "data": {
      "application/vnd.plotly.v1+json": {
       "config": {
        "plotlyServerURL": "https://plot.ly"
       },
       "data": [
        {
         "alignmentgroup": "True",
         "hovertemplate": "x=%{x}<br>y=%{y}<extra></extra>",
         "legendgroup": "",
         "marker": {
          "color": "#636efa"
         },
         "name": "",
         "offsetgroup": "",
         "orientation": "v",
         "showlegend": false,
         "textposition": "auto",
         "type": "bar",
         "x": [
          "90-180",
          "90-180",
          "30-90",
          "90-180",
          "30-90",
          "90-180",
          "90-180",
          "30-90",
          "90-180",
          "90-180",
          "90-180",
          "180-365",
          "180-365",
          "180-365",
          "30-90",
          "90-180",
          "90-180",
          "90-180",
          "30-90",
          "180-365",
          "30-90",
          "90-180",
          "90-180",
          "90-180",
          "30-90",
          "90-180",
          "90-180",
          "30-90",
          "30-90",
          "30-90",
          "90-180",
          "180-365",
          "30-90",
          "180-365",
          "30-90",
          "90-180",
          "90-180",
          "180-365",
          "30-90",
          "90-180",
          "90-180",
          "30-90",
          "180-365",
          "180-365",
          "90-180",
          "30-90",
          "90-180",
          "90-180",
          "90-180",
          "30-90",
          "30-90",
          "180-365",
          "90-180",
          "30-90",
          "30-90",
          "90-180",
          "90-180",
          "90-180",
          "30-90",
          "90-180",
          "30-90",
          "30-90",
          "90-180",
          "30-90",
          "30-90",
          "90-180",
          "90-180",
          "90-180",
          "30-90",
          "90-180",
          "180-365",
          "90-180",
          "180-365",
          "30-90",
          "90-180",
          "30-90",
          "30-90",
          "180-365",
          "90-180",
          "90-180",
          "90-180",
          "180-365",
          "30-90",
          "30-90",
          "90-180",
          "90-180",
          "180-365",
          "30-90",
          "90-180",
          "90-180",
          "90-180",
          "90-180",
          "90-180",
          "90-180",
          "90-180",
          "0-30",
          "90-180",
          "180-365",
          "180-365",
          "90-180",
          "30-90",
          "90-180",
          "30-90",
          "180-365",
          "90-180",
          "90-180",
          "90-180",
          "90-180",
          "90-180",
          "30-90",
          "30-90",
          "90-180",
          "180-365",
          "90-180",
          "30-90",
          "90-180",
          "180-365",
          "30-90",
          "90-180",
          "90-180",
          "30-90",
          "90-180",
          "30-90",
          "90-180",
          "30-90",
          "180-365",
          "180-365",
          "30-90",
          "180-365",
          "90-180",
          "90-180",
          "30-90",
          "180-365",
          "30-90",
          "90-180",
          "90-180",
          "90-180",
          "90-180",
          "30-90",
          "90-180",
          "180-365",
          "180-365",
          "30-90",
          "30-90",
          "90-180",
          "30-90",
          "90-180",
          "90-180",
          "90-180",
          "30-90",
          "30-90",
          "30-90",
          "30-90",
          "180-365",
          "90-180",
          "30-90",
          "90-180",
          "90-180",
          "90-180",
          "30-90",
          "30-90",
          "30-90",
          "90-180",
          "30-90",
          "0-30",
          "90-180",
          "90-180",
          "180-365",
          "30-90",
          "180-365",
          "30-90",
          "90-180",
          "90-180",
          "30-90",
          "30-90",
          "90-180",
          "90-180",
          "90-180",
          "180-365",
          "30-90",
          "30-90",
          "90-180",
          "180-365",
          "180-365",
          "90-180",
          "90-180",
          "30-90",
          "180-365",
          "180-365",
          "30-90",
          "180-365",
          "90-180",
          "90-180",
          "30-90",
          "180-365",
          "30-90",
          "0-30",
          "90-180",
          "90-180",
          "90-180",
          "90-180",
          "30-90",
          "180-365",
          "30-90",
          "30-90",
          "30-90",
          "30-90",
          "90-180",
          "30-90",
          "30-90",
          "30-90",
          "90-180",
          "90-180",
          "90-180",
          "90-180",
          "90-180",
          "30-90",
          "30-90",
          "90-180",
          "90-180",
          "180-365",
          "30-90",
          "90-180",
          "90-180",
          "90-180",
          "90-180",
          "90-180",
          "90-180",
          "90-180",
          "90-180",
          "90-180",
          "30-90",
          "180-365",
          "30-90",
          "90-180",
          "180-365",
          "180-365",
          "180-365",
          "180-365",
          "90-180",
          "30-90",
          "180-365",
          "180-365",
          "90-180",
          "30-90",
          "30-90",
          "90-180",
          "90-180",
          "90-180",
          "90-180",
          "90-180",
          "30-90",
          "30-90",
          "30-90",
          "180-365",
          "30-90",
          "90-180",
          "90-180",
          "90-180",
          "90-180",
          "90-180",
          "30-90",
          "90-180",
          "90-180",
          "90-180",
          "30-90",
          "30-90",
          "180-365",
          "90-180",
          "180-365",
          "30-90",
          "30-90",
          "180-365",
          "90-180",
          "30-90",
          "90-180",
          "30-90",
          "90-180",
          "90-180",
          "90-180",
          "90-180",
          "30-90",
          "90-180",
          "30-90",
          "90-180",
          "30-90",
          "90-180",
          "180-365",
          "90-180",
          "180-365",
          "30-90",
          "90-180",
          "90-180",
          "180-365",
          "90-180",
          "90-180",
          "90-180",
          "90-180",
          "90-180",
          "30-90",
          "180-365",
          "90-180",
          "90-180",
          "90-180",
          "90-180",
          "30-90",
          "180-365",
          "180-365",
          "180-365",
          "180-365",
          "180-365",
          "90-180",
          "30-90",
          "90-180",
          "90-180",
          "90-180",
          "30-90",
          "180-365",
          "30-90",
          "180-365",
          "90-180",
          "90-180",
          "30-90",
          "180-365",
          "90-180",
          "90-180",
          "30-90",
          "30-90",
          "90-180",
          "30-90",
          "90-180",
          "90-180",
          "90-180",
          "180-365",
          "30-90",
          "30-90",
          "90-180",
          "180-365",
          "180-365",
          "180-365",
          "180-365",
          "30-90",
          "180-365",
          "30-90",
          "90-180",
          "30-90",
          "90-180",
          "90-180",
          "90-180",
          "90-180",
          "180-365",
          "30-90",
          "30-90",
          "0-30",
          "90-180",
          "90-180",
          "90-180",
          "90-180",
          "90-180",
          "90-180",
          "180-365",
          "90-180",
          "180-365",
          "30-90",
          "90-180",
          "180-365",
          "30-90",
          "30-90",
          "30-90",
          "180-365",
          "90-180",
          "90-180",
          "90-180",
          "30-90",
          "180-365",
          "90-180",
          "90-180",
          "30-90",
          "180-365",
          "90-180",
          "30-90",
          "180-365",
          "180-365",
          "90-180",
          "180-365",
          "90-180",
          "90-180",
          "90-180",
          "90-180",
          "180-365",
          "180-365",
          "90-180",
          "30-90",
          "30-90",
          "30-90",
          "30-90",
          "180-365",
          "30-90",
          "180-365",
          "180-365",
          "0-30",
          "30-90",
          "180-365",
          "30-90",
          "90-180",
          "180-365",
          "180-365",
          "30-90",
          "90-180",
          "180-365",
          "180-365",
          "90-180",
          "90-180",
          "180-365",
          "90-180",
          "90-180",
          "180-365",
          "30-90",
          "180-365",
          "30-90",
          "180-365",
          "30-90",
          "90-180",
          "30-90",
          "90-180",
          "30-90",
          "180-365",
          "90-180",
          "30-90",
          "180-365",
          "90-180",
          "90-180",
          "90-180",
          "180-365",
          "90-180",
          "30-90",
          "30-90",
          "90-180",
          "30-90",
          "30-90",
          "90-180",
          "90-180",
          "30-90",
          "180-365",
          "30-90",
          "30-90",
          "30-90",
          "180-365",
          "90-180",
          "180-365",
          "180-365",
          "30-90",
          "30-90",
          "90-180",
          "180-365",
          "30-90",
          "180-365",
          "90-180",
          "180-365",
          "180-365",
          "30-90",
          "90-180",
          "90-180",
          "30-90",
          "90-180",
          "180-365",
          "30-90",
          "30-90",
          "30-90",
          "180-365",
          "90-180",
          "30-90",
          "180-365",
          "30-90",
          "90-180",
          "30-90",
          "30-90",
          "30-90",
          "180-365",
          "30-90",
          "180-365",
          "90-180",
          "90-180",
          "90-180",
          "90-180",
          "90-180",
          "180-365",
          "180-365",
          "90-180",
          "30-90",
          "90-180",
          "90-180",
          "30-90",
          "90-180",
          "90-180",
          "90-180",
          "90-180",
          "90-180",
          "90-180",
          "90-180",
          "180-365",
          "90-180",
          "90-180",
          "30-90",
          "30-90",
          "30-90",
          "90-180",
          "30-90",
          "180-365",
          "90-180",
          "30-90",
          "30-90",
          "180-365",
          "30-90",
          "90-180",
          "90-180",
          "90-180",
          "30-90",
          "180-365",
          "30-90",
          "0-30",
          "90-180",
          "90-180",
          "30-90",
          "180-365",
          "180-365",
          "90-180",
          "180-365",
          "30-90",
          "30-90",
          "30-90",
          "90-180",
          "180-365",
          "90-180",
          "90-180",
          "30-90",
          "90-180",
          "90-180",
          "30-90",
          "90-180",
          "180-365",
          "180-365",
          "180-365",
          "90-180",
          "180-365",
          "180-365",
          "90-180",
          "90-180",
          "30-90",
          "90-180",
          "30-90",
          "30-90",
          "90-180",
          "30-90",
          "90-180",
          "90-180",
          "180-365",
          "30-90",
          "30-90",
          "90-180",
          "90-180",
          "180-365",
          "90-180",
          "90-180",
          "30-90",
          "30-90",
          "180-365",
          "90-180",
          "90-180",
          "90-180",
          "90-180",
          "90-180",
          "90-180",
          "30-90",
          "180-365",
          "90-180",
          "90-180",
          "90-180",
          "30-90",
          "30-90",
          "90-180",
          "30-90",
          "90-180",
          "180-365",
          "90-180",
          "90-180",
          "180-365",
          "30-90",
          "30-90",
          "90-180",
          "90-180",
          "30-90",
          "90-180",
          "30-90",
          "30-90",
          "90-180",
          "30-90",
          "90-180",
          "90-180",
          "180-365",
          "180-365",
          "30-90",
          "90-180",
          "0-30",
          "180-365",
          "180-365",
          "90-180",
          "90-180",
          "30-90",
          "180-365",
          "90-180",
          "30-90",
          "90-180",
          "30-90",
          "90-180",
          "90-180",
          "180-365",
          "90-180",
          "30-90",
          "90-180",
          "30-90",
          "30-90",
          "30-90",
          "30-90",
          "30-90",
          "30-90",
          "30-90",
          "90-180",
          "90-180",
          "90-180",
          "90-180",
          "30-90",
          "30-90",
          "90-180",
          "90-180",
          "180-365",
          "90-180",
          "180-365",
          "90-180",
          "30-90",
          "90-180",
          "90-180",
          "90-180",
          "90-180",
          "90-180",
          "90-180",
          "30-90",
          "180-365",
          "90-180",
          "180-365",
          "180-365",
          "90-180",
          "180-365",
          "30-90",
          "90-180",
          "90-180",
          "90-180",
          "90-180",
          "30-90",
          "30-90",
          "90-180",
          "30-90",
          "90-180",
          "90-180",
          "90-180",
          "0-30",
          "90-180",
          "90-180",
          "90-180",
          "90-180",
          "90-180",
          "30-90",
          "180-365",
          "30-90",
          "30-90",
          "30-90",
          "90-180",
          "0-30",
          "90-180",
          "90-180",
          "30-90",
          "90-180",
          "30-90",
          "90-180",
          "30-90",
          "90-180",
          "30-90",
          "180-365",
          "30-90",
          "90-180",
          "30-90",
          "90-180",
          "30-90",
          "180-365",
          "90-180",
          "90-180",
          "30-90",
          "30-90",
          "30-90",
          "30-90",
          "90-180",
          "90-180",
          "90-180",
          "90-180",
          "30-90",
          "90-180",
          "180-365",
          "30-90",
          "30-90",
          "180-365",
          "90-180",
          "90-180",
          "180-365",
          "180-365",
          "90-180",
          "90-180",
          "90-180",
          "180-365",
          "30-90",
          "30-90",
          "90-180",
          "30-90",
          "30-90",
          "90-180",
          "180-365",
          "180-365",
          "90-180",
          "0-30",
          "90-180",
          "180-365",
          "180-365",
          "180-365",
          "180-365",
          "90-180",
          "180-365",
          "30-90",
          "90-180",
          "30-90",
          "180-365",
          "90-180",
          "90-180",
          "90-180",
          "30-90",
          "90-180",
          "30-90",
          "0-30",
          "180-365",
          "90-180",
          "90-180",
          "180-365",
          "90-180",
          "90-180",
          "30-90",
          "90-180",
          "180-365",
          "30-90",
          "90-180",
          "90-180",
          "30-90",
          "90-180",
          "30-90",
          "30-90",
          "180-365",
          "30-90",
          "180-365",
          "90-180",
          "30-90",
          "90-180",
          "90-180",
          "90-180",
          "30-90",
          "30-90",
          "90-180",
          "30-90",
          "180-365",
          "30-90",
          "90-180",
          "90-180",
          "90-180",
          "30-90",
          "30-90",
          "90-180",
          "90-180",
          "90-180",
          "90-180",
          "90-180",
          "90-180",
          "90-180",
          "90-180",
          "30-90",
          "30-90",
          "90-180",
          "90-180",
          "90-180",
          "90-180",
          "30-90",
          "90-180",
          "30-90",
          "30-90",
          "90-180",
          "180-365",
          "90-180",
          "180-365",
          "90-180",
          "90-180",
          "90-180",
          "90-180",
          "90-180",
          "90-180",
          "180-365",
          "90-180",
          "30-90",
          "90-180",
          "30-90",
          "90-180",
          "30-90",
          "90-180",
          "90-180",
          "30-90",
          "90-180",
          "90-180",
          "90-180",
          "90-180",
          "90-180",
          "90-180",
          "90-180",
          "90-180",
          "90-180",
          "180-365",
          "180-365",
          "180-365",
          "30-90",
          "30-90",
          "30-90",
          "90-180",
          "90-180",
          "90-180",
          "30-90"
         ],
         "xaxis": "x",
         "y": [
          1,
          9,
          13,
          16,
          20,
          25,
          36,
          37,
          42,
          43,
          45,
          49,
          56,
          68,
          73,
          78,
          80,
          81,
          87,
          88,
          107,
          126,
          130,
          147,
          150,
          151,
          160,
          169,
          191,
          198,
          209,
          221,
          233,
          238,
          251,
          264,
          303,
          331,
          378,
          423,
          430,
          477,
          487,
          494,
          500,
          511,
          527,
          568,
          588,
          601,
          605,
          614,
          615,
          630,
          645,
          665,
          666,
          744,
          747,
          800,
          814,
          866,
          995,
          996,
          1000,
          1004,
          1041,
          1044,
          1171,
          1217,
          1232,
          1254,
          1277,
          1282,
          1306,
          1332,
          1349,
          1378,
          1465,
          1485,
          1494,
          1562,
          1574,
          1575,
          1576,
          1578,
          1630,
          1752,
          1859,
          1860,
          1901,
          1995,
          1999,
          2018,
          2067,
          2137,
          2152,
          2153,
          2175,
          2178,
          2302,
          2372,
          2384,
          2423,
          2426,
          2507,
          2585,
          2601,
          2686,
          2754,
          2979,
          3118,
          3206,
          3313,
          3385,
          3386,
          3707,
          3734,
          4007,
          4033,
          4160,
          4185,
          4245,
          4427,
          4466,
          4566,
          4660,
          4823,
          4872,
          5192,
          5354,
          5374,
          5710,
          5765,
          5946,
          6134,
          6229,
          6539,
          6788,
          7063,
          7136,
          7160,
          7594,
          7852,
          8122,
          8252,
          8691,
          9233,
          9478,
          9549,
          9712,
          9813,
          10716,
          10750,
          10890,
          11002,
          11243,
          11551,
          12543,
          12726,
          13116,
          13195,
          13882,
          14432,
          14606,
          14640,
          14774,
          14895,
          14915,
          15047,
          16318,
          16381,
          16717,
          17230,
          17463,
          17714,
          18052,
          18459,
          18684,
          19078,
          19743,
          20084,
          21057,
          21059,
          21080,
          21094,
          21095,
          21101,
          21103,
          21115,
          21127,
          21140,
          21144,
          21147,
          21160,
          21175,
          21194,
          21206,
          21240,
          21242,
          21259,
          21261,
          21263,
          21265,
          21267,
          21274,
          21278,
          21285,
          21290,
          21292,
          21329,
          21372,
          21374,
          21377,
          21381,
          21385,
          21403,
          21407,
          21417,
          21419,
          21425,
          21428,
          21467,
          21488,
          21512,
          21531,
          21532,
          21546,
          21550,
          21555,
          21559,
          21571,
          21572,
          21573,
          21605,
          21606,
          21625,
          21688,
          21693,
          21731,
          21735,
          21762,
          21788,
          21794,
          21854,
          21889,
          21895,
          21903,
          21927,
          21943,
          21978,
          22021,
          22035,
          22180,
          22220,
          22244,
          22260,
          22280,
          22296,
          22309,
          22315,
          22338,
          22356,
          22366,
          22375,
          22403,
          22435,
          22485,
          22499,
          22539,
          22541,
          22628,
          22708,
          22757,
          22779,
          22860,
          22895,
          22917,
          22929,
          22932,
          22958,
          22973,
          22981,
          23046,
          23051,
          23055,
          23087,
          23102,
          23155,
          23186,
          23194,
          23200,
          23213,
          23216,
          23219,
          23250,
          23252,
          23255,
          23295,
          23323,
          23334,
          23401,
          23407,
          23426,
          23450,
          23453,
          23468,
          23469,
          23474,
          23490,
          23506,
          23519,
          23531,
          23532,
          23583,
          23589,
          23592,
          23628,
          23657,
          23715,
          23722,
          23756,
          23764,
          23783,
          23872,
          23906,
          23910,
          23927,
          23986,
          24022,
          24035,
          24074,
          24111,
          24168,
          24189,
          24223,
          24264,
          24283,
          24335,
          24337,
          24360,
          24425,
          24434,
          24501,
          24528,
          24585,
          24593,
          24653,
          24703,
          24714,
          24724,
          24760,
          24807,
          24853,
          24940,
          24964,
          24995,
          25054,
          25070,
          25082,
          25099,
          25165,
          25235,
          25305,
          25370,
          25377,
          25480,
          25581,
          25590,
          25599,
          25601,
          25625,
          25633,
          25648,
          25689,
          25811,
          25908,
          25941,
          26059,
          26105,
          26280,
          26300,
          26340,
          26363,
          26386,
          26457,
          26475,
          26489,
          26543,
          26556,
          26602,
          26857,
          26902,
          26911,
          26924,
          27238,
          27255,
          27320,
          27348,
          27362,
          27420,
          27475,
          27495,
          27548,
          27597,
          27634,
          27644,
          27667,
          27693,
          27908,
          28288,
          28290,
          28395,
          28494,
          28507,
          28658,
          28721,
          28845,
          28882,
          28945,
          29205,
          29302,
          29346,
          29432,
          29533,
          29670,
          29685,
          29688,
          29738,
          29779,
          30081,
          30146,
          30301,
          30346,
          30355,
          30479,
          30507,
          30509,
          30517,
          30529,
          30561,
          30648,
          30712,
          30714,
          30722,
          30769,
          30812,
          30853,
          30869,
          30983,
          31060,
          31115,
          31340,
          31345,
          31404,
          31444,
          31796,
          31875,
          31893,
          31917,
          31918,
          32000,
          32202,
          32256,
          32362,
          32553,
          32662,
          32725,
          32734,
          32904,
          32968,
          33051,
          33139,
          33199,
          33292,
          33469,
          33560,
          33626,
          33634,
          33861,
          33930,
          33947,
          34143,
          34205,
          34237,
          34283,
          34314,
          34437,
          34489,
          34519,
          34729,
          34734,
          34816,
          34905,
          35009,
          35107,
          35221,
          35490,
          35576,
          35701,
          35873,
          36207,
          36654,
          36689,
          36699,
          36714,
          36749,
          36812,
          36838,
          37010,
          37036,
          37221,
          37465,
          37657,
          37779,
          37828,
          37869,
          37890,
          37911,
          38066,
          38094,
          38141,
          38158,
          38159,
          38211,
          38234,
          38303,
          38377,
          38689,
          38749,
          38784,
          38791,
          38813,
          38857,
          38892,
          38953,
          39298,
          39460,
          39564,
          39691,
          40374,
          40506,
          40590,
          40661,
          40671,
          41048,
          41130,
          41201,
          41637,
          41639,
          41667,
          41704,
          41718,
          42026,
          42200,
          42252,
          42664,
          42701,
          42724,
          42779,
          42824,
          42988,
          43080,
          43300,
          43425,
          43428,
          43446,
          43504,
          43601,
          43716,
          43957,
          43998,
          44158,
          44246,
          44306,
          44396,
          44514,
          44583,
          44670,
          45017,
          45150,
          45171,
          45218,
          45270,
          45273,
          45297,
          45382,
          45473,
          45542,
          46000,
          46161,
          46235,
          46425,
          46621,
          46788,
          46925,
          46969,
          47104,
          47230,
          98066,
          98070,
          98413,
          98414,
          98415,
          98926,
          98989,
          99206,
          99583,
          101881,
          101893,
          102535,
          102753,
          102908,
          103789,
          103821,
          103939,
          104446,
          104447,
          104451,
          104603,
          104619,
          104695,
          104844,
          104846,
          104847,
          104848,
          105161,
          105218,
          105284,
          105587,
          105607,
          105608,
          105613,
          106134,
          106139,
          106339,
          106346,
          106471,
          106722,
          106762,
          106775,
          106776,
          106781,
          106796,
          106797,
          106800,
          106858,
          106885,
          106900,
          106914,
          106935,
          107019,
          107026,
          107060,
          107076,
          107082,
          107105,
          107184,
          107186,
          107225,
          107340,
          107415,
          107646,
          107729,
          107903,
          108678,
          108828,
          109463,
          109879,
          109903,
          110064,
          110068,
          110114,
          110290,
          110306,
          110319,
          110320,
          110442,
          110444,
          110447,
          110467,
          110513,
          110837,
          110840,
          110848,
          110937,
          111055,
          111056,
          111063,
          111095,
          111104,
          111136,
          111307,
          111560,
          111792,
          111796,
          111799,
          111807,
          111818,
          111883,
          112398,
          112644,
          113006,
          113036,
          113044,
          113442,
          113447,
          113515,
          113627,
          113768,
          113770,
          113771,
          113782,
          113785,
          113807,
          114010,
          114108,
          114164,
          114166,
          114299,
          114354,
          114372,
          114375,
          114542,
          114673,
          114744,
          114823,
          114880,
          114898,
          114906,
          114947,
          114954,
          115144,
          115148,
          115179,
          115276,
          115658,
          115808,
          115819,
          115856,
          115858,
          116033,
          116072,
          116073,
          116092,
          116173,
          116288,
          116290,
          116343,
          116449,
          116458,
          116474,
          116541,
          116589,
          116605,
          116660,
          116676,
          116772,
          116828,
          116841,
          117001,
          117134,
          117144,
          117150,
          117164,
          117210,
          117230,
          117350,
          117351,
          117360,
          117373,
          117439,
          117716,
          117804,
          118116,
          118126,
          118183,
          118188,
          118287,
          118406,
          118423,
          118444,
          118457,
          118467,
          118928,
          119122,
          119132,
          119335,
          119473,
          119486,
          119502,
          119507,
          119531,
          119818,
          119859,
          119955,
          120077,
          120081,
          120094,
          120126,
          120299,
          120375,
          120382,
          120384,
          120409,
          120410,
          120411,
          120412,
          120413,
          120415,
          120417,
          120687,
          120784,
          120793,
          120828,
          121006,
          121018,
          121023,
          121286,
          121288,
          121308,
          121343,
          121526,
          121584,
          121646,
          121745,
          121765,
          121818,
          121841,
          121893,
          121894,
          121940,
          121963,
          122004,
          122013,
          122023,
          122031,
          122078
         ],
         "yaxis": "y"
        }
       ],
       "layout": {
        "barmode": "relative",
        "legend": {
         "tracegroupgap": 0
        },
        "margin": {
         "t": 60
        },
        "template": {
         "data": {
          "bar": [
           {
            "error_x": {
             "color": "#2a3f5f"
            },
            "error_y": {
             "color": "#2a3f5f"
            },
            "marker": {
             "line": {
              "color": "#E5ECF6",
              "width": 0.5
             }
            },
            "type": "bar"
           }
          ],
          "barpolar": [
           {
            "marker": {
             "line": {
              "color": "#E5ECF6",
              "width": 0.5
             }
            },
            "type": "barpolar"
           }
          ],
          "carpet": [
           {
            "aaxis": {
             "endlinecolor": "#2a3f5f",
             "gridcolor": "white",
             "linecolor": "white",
             "minorgridcolor": "white",
             "startlinecolor": "#2a3f5f"
            },
            "baxis": {
             "endlinecolor": "#2a3f5f",
             "gridcolor": "white",
             "linecolor": "white",
             "minorgridcolor": "white",
             "startlinecolor": "#2a3f5f"
            },
            "type": "carpet"
           }
          ],
          "choropleth": [
           {
            "colorbar": {
             "outlinewidth": 0,
             "ticks": ""
            },
            "type": "choropleth"
           }
          ],
          "contour": [
           {
            "colorbar": {
             "outlinewidth": 0,
             "ticks": ""
            },
            "colorscale": [
             [
              0,
              "#0d0887"
             ],
             [
              0.1111111111111111,
              "#46039f"
             ],
             [
              0.2222222222222222,
              "#7201a8"
             ],
             [
              0.3333333333333333,
              "#9c179e"
             ],
             [
              0.4444444444444444,
              "#bd3786"
             ],
             [
              0.5555555555555556,
              "#d8576b"
             ],
             [
              0.6666666666666666,
              "#ed7953"
             ],
             [
              0.7777777777777778,
              "#fb9f3a"
             ],
             [
              0.8888888888888888,
              "#fdca26"
             ],
             [
              1,
              "#f0f921"
             ]
            ],
            "type": "contour"
           }
          ],
          "contourcarpet": [
           {
            "colorbar": {
             "outlinewidth": 0,
             "ticks": ""
            },
            "type": "contourcarpet"
           }
          ],
          "heatmap": [
           {
            "colorbar": {
             "outlinewidth": 0,
             "ticks": ""
            },
            "colorscale": [
             [
              0,
              "#0d0887"
             ],
             [
              0.1111111111111111,
              "#46039f"
             ],
             [
              0.2222222222222222,
              "#7201a8"
             ],
             [
              0.3333333333333333,
              "#9c179e"
             ],
             [
              0.4444444444444444,
              "#bd3786"
             ],
             [
              0.5555555555555556,
              "#d8576b"
             ],
             [
              0.6666666666666666,
              "#ed7953"
             ],
             [
              0.7777777777777778,
              "#fb9f3a"
             ],
             [
              0.8888888888888888,
              "#fdca26"
             ],
             [
              1,
              "#f0f921"
             ]
            ],
            "type": "heatmap"
           }
          ],
          "heatmapgl": [
           {
            "colorbar": {
             "outlinewidth": 0,
             "ticks": ""
            },
            "colorscale": [
             [
              0,
              "#0d0887"
             ],
             [
              0.1111111111111111,
              "#46039f"
             ],
             [
              0.2222222222222222,
              "#7201a8"
             ],
             [
              0.3333333333333333,
              "#9c179e"
             ],
             [
              0.4444444444444444,
              "#bd3786"
             ],
             [
              0.5555555555555556,
              "#d8576b"
             ],
             [
              0.6666666666666666,
              "#ed7953"
             ],
             [
              0.7777777777777778,
              "#fb9f3a"
             ],
             [
              0.8888888888888888,
              "#fdca26"
             ],
             [
              1,
              "#f0f921"
             ]
            ],
            "type": "heatmapgl"
           }
          ],
          "histogram": [
           {
            "marker": {
             "colorbar": {
              "outlinewidth": 0,
              "ticks": ""
             }
            },
            "type": "histogram"
           }
          ],
          "histogram2d": [
           {
            "colorbar": {
             "outlinewidth": 0,
             "ticks": ""
            },
            "colorscale": [
             [
              0,
              "#0d0887"
             ],
             [
              0.1111111111111111,
              "#46039f"
             ],
             [
              0.2222222222222222,
              "#7201a8"
             ],
             [
              0.3333333333333333,
              "#9c179e"
             ],
             [
              0.4444444444444444,
              "#bd3786"
             ],
             [
              0.5555555555555556,
              "#d8576b"
             ],
             [
              0.6666666666666666,
              "#ed7953"
             ],
             [
              0.7777777777777778,
              "#fb9f3a"
             ],
             [
              0.8888888888888888,
              "#fdca26"
             ],
             [
              1,
              "#f0f921"
             ]
            ],
            "type": "histogram2d"
           }
          ],
          "histogram2dcontour": [
           {
            "colorbar": {
             "outlinewidth": 0,
             "ticks": ""
            },
            "colorscale": [
             [
              0,
              "#0d0887"
             ],
             [
              0.1111111111111111,
              "#46039f"
             ],
             [
              0.2222222222222222,
              "#7201a8"
             ],
             [
              0.3333333333333333,
              "#9c179e"
             ],
             [
              0.4444444444444444,
              "#bd3786"
             ],
             [
              0.5555555555555556,
              "#d8576b"
             ],
             [
              0.6666666666666666,
              "#ed7953"
             ],
             [
              0.7777777777777778,
              "#fb9f3a"
             ],
             [
              0.8888888888888888,
              "#fdca26"
             ],
             [
              1,
              "#f0f921"
             ]
            ],
            "type": "histogram2dcontour"
           }
          ],
          "mesh3d": [
           {
            "colorbar": {
             "outlinewidth": 0,
             "ticks": ""
            },
            "type": "mesh3d"
           }
          ],
          "parcoords": [
           {
            "line": {
             "colorbar": {
              "outlinewidth": 0,
              "ticks": ""
             }
            },
            "type": "parcoords"
           }
          ],
          "pie": [
           {
            "automargin": true,
            "type": "pie"
           }
          ],
          "scatter": [
           {
            "marker": {
             "colorbar": {
              "outlinewidth": 0,
              "ticks": ""
             }
            },
            "type": "scatter"
           }
          ],
          "scatter3d": [
           {
            "line": {
             "colorbar": {
              "outlinewidth": 0,
              "ticks": ""
             }
            },
            "marker": {
             "colorbar": {
              "outlinewidth": 0,
              "ticks": ""
             }
            },
            "type": "scatter3d"
           }
          ],
          "scattercarpet": [
           {
            "marker": {
             "colorbar": {
              "outlinewidth": 0,
              "ticks": ""
             }
            },
            "type": "scattercarpet"
           }
          ],
          "scattergeo": [
           {
            "marker": {
             "colorbar": {
              "outlinewidth": 0,
              "ticks": ""
             }
            },
            "type": "scattergeo"
           }
          ],
          "scattergl": [
           {
            "marker": {
             "colorbar": {
              "outlinewidth": 0,
              "ticks": ""
             }
            },
            "type": "scattergl"
           }
          ],
          "scattermapbox": [
           {
            "marker": {
             "colorbar": {
              "outlinewidth": 0,
              "ticks": ""
             }
            },
            "type": "scattermapbox"
           }
          ],
          "scatterpolar": [
           {
            "marker": {
             "colorbar": {
              "outlinewidth": 0,
              "ticks": ""
             }
            },
            "type": "scatterpolar"
           }
          ],
          "scatterpolargl": [
           {
            "marker": {
             "colorbar": {
              "outlinewidth": 0,
              "ticks": ""
             }
            },
            "type": "scatterpolargl"
           }
          ],
          "scatterternary": [
           {
            "marker": {
             "colorbar": {
              "outlinewidth": 0,
              "ticks": ""
             }
            },
            "type": "scatterternary"
           }
          ],
          "surface": [
           {
            "colorbar": {
             "outlinewidth": 0,
             "ticks": ""
            },
            "colorscale": [
             [
              0,
              "#0d0887"
             ],
             [
              0.1111111111111111,
              "#46039f"
             ],
             [
              0.2222222222222222,
              "#7201a8"
             ],
             [
              0.3333333333333333,
              "#9c179e"
             ],
             [
              0.4444444444444444,
              "#bd3786"
             ],
             [
              0.5555555555555556,
              "#d8576b"
             ],
             [
              0.6666666666666666,
              "#ed7953"
             ],
             [
              0.7777777777777778,
              "#fb9f3a"
             ],
             [
              0.8888888888888888,
              "#fdca26"
             ],
             [
              1,
              "#f0f921"
             ]
            ],
            "type": "surface"
           }
          ],
          "table": [
           {
            "cells": {
             "fill": {
              "color": "#EBF0F8"
             },
             "line": {
              "color": "white"
             }
            },
            "header": {
             "fill": {
              "color": "#C8D4E3"
             },
             "line": {
              "color": "white"
             }
            },
            "type": "table"
           }
          ]
         },
         "layout": {
          "annotationdefaults": {
           "arrowcolor": "#2a3f5f",
           "arrowhead": 0,
           "arrowwidth": 1
          },
          "coloraxis": {
           "colorbar": {
            "outlinewidth": 0,
            "ticks": ""
           }
          },
          "colorscale": {
           "diverging": [
            [
             0,
             "#8e0152"
            ],
            [
             0.1,
             "#c51b7d"
            ],
            [
             0.2,
             "#de77ae"
            ],
            [
             0.3,
             "#f1b6da"
            ],
            [
             0.4,
             "#fde0ef"
            ],
            [
             0.5,
             "#f7f7f7"
            ],
            [
             0.6,
             "#e6f5d0"
            ],
            [
             0.7,
             "#b8e186"
            ],
            [
             0.8,
             "#7fbc41"
            ],
            [
             0.9,
             "#4d9221"
            ],
            [
             1,
             "#276419"
            ]
           ],
           "sequential": [
            [
             0,
             "#0d0887"
            ],
            [
             0.1111111111111111,
             "#46039f"
            ],
            [
             0.2222222222222222,
             "#7201a8"
            ],
            [
             0.3333333333333333,
             "#9c179e"
            ],
            [
             0.4444444444444444,
             "#bd3786"
            ],
            [
             0.5555555555555556,
             "#d8576b"
            ],
            [
             0.6666666666666666,
             "#ed7953"
            ],
            [
             0.7777777777777778,
             "#fb9f3a"
            ],
            [
             0.8888888888888888,
             "#fdca26"
            ],
            [
             1,
             "#f0f921"
            ]
           ],
           "sequentialminus": [
            [
             0,
             "#0d0887"
            ],
            [
             0.1111111111111111,
             "#46039f"
            ],
            [
             0.2222222222222222,
             "#7201a8"
            ],
            [
             0.3333333333333333,
             "#9c179e"
            ],
            [
             0.4444444444444444,
             "#bd3786"
            ],
            [
             0.5555555555555556,
             "#d8576b"
            ],
            [
             0.6666666666666666,
             "#ed7953"
            ],
            [
             0.7777777777777778,
             "#fb9f3a"
            ],
            [
             0.8888888888888888,
             "#fdca26"
            ],
            [
             1,
             "#f0f921"
            ]
           ]
          },
          "colorway": [
           "#636efa",
           "#EF553B",
           "#00cc96",
           "#ab63fa",
           "#FFA15A",
           "#19d3f3",
           "#FF6692",
           "#B6E880",
           "#FF97FF",
           "#FECB52"
          ],
          "font": {
           "color": "#2a3f5f"
          },
          "geo": {
           "bgcolor": "white",
           "lakecolor": "white",
           "landcolor": "#E5ECF6",
           "showlakes": true,
           "showland": true,
           "subunitcolor": "white"
          },
          "hoverlabel": {
           "align": "left"
          },
          "hovermode": "closest",
          "mapbox": {
           "style": "light"
          },
          "paper_bgcolor": "white",
          "plot_bgcolor": "#E5ECF6",
          "polar": {
           "angularaxis": {
            "gridcolor": "white",
            "linecolor": "white",
            "ticks": ""
           },
           "bgcolor": "#E5ECF6",
           "radialaxis": {
            "gridcolor": "white",
            "linecolor": "white",
            "ticks": ""
           }
          },
          "scene": {
           "xaxis": {
            "backgroundcolor": "#E5ECF6",
            "gridcolor": "white",
            "gridwidth": 2,
            "linecolor": "white",
            "showbackground": true,
            "ticks": "",
            "zerolinecolor": "white"
           },
           "yaxis": {
            "backgroundcolor": "#E5ECF6",
            "gridcolor": "white",
            "gridwidth": 2,
            "linecolor": "white",
            "showbackground": true,
            "ticks": "",
            "zerolinecolor": "white"
           },
           "zaxis": {
            "backgroundcolor": "#E5ECF6",
            "gridcolor": "white",
            "gridwidth": 2,
            "linecolor": "white",
            "showbackground": true,
            "ticks": "",
            "zerolinecolor": "white"
           }
          },
          "shapedefaults": {
           "line": {
            "color": "#2a3f5f"
           }
          },
          "ternary": {
           "aaxis": {
            "gridcolor": "white",
            "linecolor": "white",
            "ticks": ""
           },
           "baxis": {
            "gridcolor": "white",
            "linecolor": "white",
            "ticks": ""
           },
           "bgcolor": "#E5ECF6",
           "caxis": {
            "gridcolor": "white",
            "linecolor": "white",
            "ticks": ""
           }
          },
          "title": {
           "x": 0.05
          },
          "xaxis": {
           "automargin": true,
           "gridcolor": "white",
           "linecolor": "white",
           "ticks": "",
           "title": {
            "standoff": 15
           },
           "zerolinecolor": "white",
           "zerolinewidth": 2
          },
          "yaxis": {
           "automargin": true,
           "gridcolor": "white",
           "linecolor": "white",
           "ticks": "",
           "title": {
            "standoff": 15
           },
           "zerolinecolor": "white",
           "zerolinewidth": 2
          }
         }
        },
        "xaxis": {
         "anchor": "y",
         "domain": [
          0,
          1
         ],
         "title": {
          "text": "x"
         }
        },
        "yaxis": {
         "anchor": "x",
         "domain": [
          0,
          1
         ],
         "title": {
          "text": "y"
         }
        }
       }
      },
      "text/html": [
       "<div>\n",
       "        \n",
       "        \n",
       "            <div id=\"969b20ce-0d29-47d2-9c1d-88ec829a2a47\" class=\"plotly-graph-div\" style=\"height:525px; width:100%;\"></div>\n",
       "            <script type=\"text/javascript\">\n",
       "                require([\"plotly\"], function(Plotly) {\n",
       "                    window.PLOTLYENV=window.PLOTLYENV || {};\n",
       "                    \n",
       "                if (document.getElementById(\"969b20ce-0d29-47d2-9c1d-88ec829a2a47\")) {\n",
       "                    Plotly.newPlot(\n",
       "                        '969b20ce-0d29-47d2-9c1d-88ec829a2a47',\n",
       "                        [{\"alignmentgroup\": \"True\", \"hovertemplate\": \"x=%{x}<br>y=%{y}<extra></extra>\", \"legendgroup\": \"\", \"marker\": {\"color\": \"#636efa\"}, \"name\": \"\", \"offsetgroup\": \"\", \"orientation\": \"v\", \"showlegend\": false, \"textposition\": \"auto\", \"type\": \"bar\", \"x\": [\"90-180\", \"90-180\", \"30-90\", \"90-180\", \"30-90\", \"90-180\", \"90-180\", \"30-90\", \"90-180\", \"90-180\", \"90-180\", \"180-365\", \"180-365\", \"180-365\", \"30-90\", \"90-180\", \"90-180\", \"90-180\", \"30-90\", \"180-365\", \"30-90\", \"90-180\", \"90-180\", \"90-180\", \"30-90\", \"90-180\", \"90-180\", \"30-90\", \"30-90\", \"30-90\", \"90-180\", \"180-365\", \"30-90\", \"180-365\", \"30-90\", \"90-180\", \"90-180\", \"180-365\", \"30-90\", \"90-180\", \"90-180\", \"30-90\", \"180-365\", \"180-365\", \"90-180\", \"30-90\", \"90-180\", \"90-180\", \"90-180\", \"30-90\", \"30-90\", \"180-365\", \"90-180\", \"30-90\", \"30-90\", \"90-180\", \"90-180\", \"90-180\", \"30-90\", \"90-180\", \"30-90\", \"30-90\", \"90-180\", \"30-90\", \"30-90\", \"90-180\", \"90-180\", \"90-180\", \"30-90\", \"90-180\", \"180-365\", \"90-180\", \"180-365\", \"30-90\", \"90-180\", \"30-90\", \"30-90\", \"180-365\", \"90-180\", \"90-180\", \"90-180\", \"180-365\", \"30-90\", \"30-90\", \"90-180\", \"90-180\", \"180-365\", \"30-90\", \"90-180\", \"90-180\", \"90-180\", \"90-180\", \"90-180\", \"90-180\", \"90-180\", \"0-30\", \"90-180\", \"180-365\", \"180-365\", \"90-180\", \"30-90\", \"90-180\", \"30-90\", \"180-365\", \"90-180\", \"90-180\", \"90-180\", \"90-180\", \"90-180\", \"30-90\", \"30-90\", \"90-180\", \"180-365\", \"90-180\", \"30-90\", \"90-180\", \"180-365\", \"30-90\", \"90-180\", \"90-180\", \"30-90\", \"90-180\", \"30-90\", \"90-180\", \"30-90\", \"180-365\", \"180-365\", \"30-90\", \"180-365\", \"90-180\", \"90-180\", \"30-90\", \"180-365\", \"30-90\", \"90-180\", \"90-180\", \"90-180\", \"90-180\", \"30-90\", \"90-180\", \"180-365\", \"180-365\", \"30-90\", \"30-90\", \"90-180\", \"30-90\", \"90-180\", \"90-180\", \"90-180\", \"30-90\", \"30-90\", \"30-90\", \"30-90\", \"180-365\", \"90-180\", \"30-90\", \"90-180\", \"90-180\", \"90-180\", \"30-90\", \"30-90\", \"30-90\", \"90-180\", \"30-90\", \"0-30\", \"90-180\", \"90-180\", \"180-365\", \"30-90\", \"180-365\", \"30-90\", \"90-180\", \"90-180\", \"30-90\", \"30-90\", \"90-180\", \"90-180\", \"90-180\", \"180-365\", \"30-90\", \"30-90\", \"90-180\", \"180-365\", \"180-365\", \"90-180\", \"90-180\", \"30-90\", \"180-365\", \"180-365\", \"30-90\", \"180-365\", \"90-180\", \"90-180\", \"30-90\", \"180-365\", \"30-90\", \"0-30\", \"90-180\", \"90-180\", \"90-180\", \"90-180\", \"30-90\", \"180-365\", \"30-90\", \"30-90\", \"30-90\", \"30-90\", \"90-180\", \"30-90\", \"30-90\", \"30-90\", \"90-180\", \"90-180\", \"90-180\", \"90-180\", \"90-180\", \"30-90\", \"30-90\", \"90-180\", \"90-180\", \"180-365\", \"30-90\", \"90-180\", \"90-180\", \"90-180\", \"90-180\", \"90-180\", \"90-180\", \"90-180\", \"90-180\", \"90-180\", \"30-90\", \"180-365\", \"30-90\", \"90-180\", \"180-365\", \"180-365\", \"180-365\", \"180-365\", \"90-180\", \"30-90\", \"180-365\", \"180-365\", \"90-180\", \"30-90\", \"30-90\", \"90-180\", \"90-180\", \"90-180\", \"90-180\", \"90-180\", \"30-90\", \"30-90\", \"30-90\", \"180-365\", \"30-90\", \"90-180\", \"90-180\", \"90-180\", \"90-180\", \"90-180\", \"30-90\", \"90-180\", \"90-180\", \"90-180\", \"30-90\", \"30-90\", \"180-365\", \"90-180\", \"180-365\", \"30-90\", \"30-90\", \"180-365\", \"90-180\", \"30-90\", \"90-180\", \"30-90\", \"90-180\", \"90-180\", \"90-180\", \"90-180\", \"30-90\", \"90-180\", \"30-90\", \"90-180\", \"30-90\", \"90-180\", \"180-365\", \"90-180\", \"180-365\", \"30-90\", \"90-180\", \"90-180\", \"180-365\", \"90-180\", \"90-180\", \"90-180\", \"90-180\", \"90-180\", \"30-90\", \"180-365\", \"90-180\", \"90-180\", \"90-180\", \"90-180\", \"30-90\", \"180-365\", \"180-365\", \"180-365\", \"180-365\", \"180-365\", \"90-180\", \"30-90\", \"90-180\", \"90-180\", \"90-180\", \"30-90\", \"180-365\", \"30-90\", \"180-365\", \"90-180\", \"90-180\", \"30-90\", \"180-365\", \"90-180\", \"90-180\", \"30-90\", \"30-90\", \"90-180\", \"30-90\", \"90-180\", \"90-180\", \"90-180\", \"180-365\", \"30-90\", \"30-90\", \"90-180\", \"180-365\", \"180-365\", \"180-365\", \"180-365\", \"30-90\", \"180-365\", \"30-90\", \"90-180\", \"30-90\", \"90-180\", \"90-180\", \"90-180\", \"90-180\", \"180-365\", \"30-90\", \"30-90\", \"0-30\", \"90-180\", \"90-180\", \"90-180\", \"90-180\", \"90-180\", \"90-180\", \"180-365\", \"90-180\", \"180-365\", \"30-90\", \"90-180\", \"180-365\", \"30-90\", \"30-90\", \"30-90\", \"180-365\", \"90-180\", \"90-180\", \"90-180\", \"30-90\", \"180-365\", \"90-180\", \"90-180\", \"30-90\", \"180-365\", \"90-180\", \"30-90\", \"180-365\", \"180-365\", \"90-180\", \"180-365\", \"90-180\", \"90-180\", \"90-180\", \"90-180\", \"180-365\", \"180-365\", \"90-180\", \"30-90\", \"30-90\", \"30-90\", \"30-90\", \"180-365\", \"30-90\", \"180-365\", \"180-365\", \"0-30\", \"30-90\", \"180-365\", \"30-90\", \"90-180\", \"180-365\", \"180-365\", \"30-90\", \"90-180\", \"180-365\", \"180-365\", \"90-180\", \"90-180\", \"180-365\", \"90-180\", \"90-180\", \"180-365\", \"30-90\", \"180-365\", \"30-90\", \"180-365\", \"30-90\", \"90-180\", \"30-90\", \"90-180\", \"30-90\", \"180-365\", \"90-180\", \"30-90\", \"180-365\", \"90-180\", \"90-180\", \"90-180\", \"180-365\", \"90-180\", \"30-90\", \"30-90\", \"90-180\", \"30-90\", \"30-90\", \"90-180\", \"90-180\", \"30-90\", \"180-365\", \"30-90\", \"30-90\", \"30-90\", \"180-365\", \"90-180\", \"180-365\", \"180-365\", \"30-90\", \"30-90\", \"90-180\", \"180-365\", \"30-90\", \"180-365\", \"90-180\", \"180-365\", \"180-365\", \"30-90\", \"90-180\", \"90-180\", \"30-90\", \"90-180\", \"180-365\", \"30-90\", \"30-90\", \"30-90\", \"180-365\", \"90-180\", \"30-90\", \"180-365\", \"30-90\", \"90-180\", \"30-90\", \"30-90\", \"30-90\", \"180-365\", \"30-90\", \"180-365\", \"90-180\", \"90-180\", \"90-180\", \"90-180\", \"90-180\", \"180-365\", \"180-365\", \"90-180\", \"30-90\", \"90-180\", \"90-180\", \"30-90\", \"90-180\", \"90-180\", \"90-180\", \"90-180\", \"90-180\", \"90-180\", \"90-180\", \"180-365\", \"90-180\", \"90-180\", \"30-90\", \"30-90\", \"30-90\", \"90-180\", \"30-90\", \"180-365\", \"90-180\", \"30-90\", \"30-90\", \"180-365\", \"30-90\", \"90-180\", \"90-180\", \"90-180\", \"30-90\", \"180-365\", \"30-90\", \"0-30\", \"90-180\", \"90-180\", \"30-90\", \"180-365\", \"180-365\", \"90-180\", \"180-365\", \"30-90\", \"30-90\", \"30-90\", \"90-180\", \"180-365\", \"90-180\", \"90-180\", \"30-90\", \"90-180\", \"90-180\", \"30-90\", \"90-180\", \"180-365\", \"180-365\", \"180-365\", \"90-180\", \"180-365\", \"180-365\", \"90-180\", \"90-180\", \"30-90\", \"90-180\", \"30-90\", \"30-90\", \"90-180\", \"30-90\", \"90-180\", \"90-180\", \"180-365\", \"30-90\", \"30-90\", \"90-180\", \"90-180\", \"180-365\", \"90-180\", \"90-180\", \"30-90\", \"30-90\", \"180-365\", \"90-180\", \"90-180\", \"90-180\", \"90-180\", \"90-180\", \"90-180\", \"30-90\", \"180-365\", \"90-180\", \"90-180\", \"90-180\", \"30-90\", \"30-90\", \"90-180\", \"30-90\", \"90-180\", \"180-365\", \"90-180\", \"90-180\", \"180-365\", \"30-90\", \"30-90\", \"90-180\", \"90-180\", \"30-90\", \"90-180\", \"30-90\", \"30-90\", \"90-180\", \"30-90\", \"90-180\", \"90-180\", \"180-365\", \"180-365\", \"30-90\", \"90-180\", \"0-30\", \"180-365\", \"180-365\", \"90-180\", \"90-180\", \"30-90\", \"180-365\", \"90-180\", \"30-90\", \"90-180\", \"30-90\", \"90-180\", \"90-180\", \"180-365\", \"90-180\", \"30-90\", \"90-180\", \"30-90\", \"30-90\", \"30-90\", \"30-90\", \"30-90\", \"30-90\", \"30-90\", \"90-180\", \"90-180\", \"90-180\", \"90-180\", \"30-90\", \"30-90\", \"90-180\", \"90-180\", \"180-365\", \"90-180\", \"180-365\", \"90-180\", \"30-90\", \"90-180\", \"90-180\", \"90-180\", \"90-180\", \"90-180\", \"90-180\", \"30-90\", \"180-365\", \"90-180\", \"180-365\", \"180-365\", \"90-180\", \"180-365\", \"30-90\", \"90-180\", \"90-180\", \"90-180\", \"90-180\", \"30-90\", \"30-90\", \"90-180\", \"30-90\", \"90-180\", \"90-180\", \"90-180\", \"0-30\", \"90-180\", \"90-180\", \"90-180\", \"90-180\", \"90-180\", \"30-90\", \"180-365\", \"30-90\", \"30-90\", \"30-90\", \"90-180\", \"0-30\", \"90-180\", \"90-180\", \"30-90\", \"90-180\", \"30-90\", \"90-180\", \"30-90\", \"90-180\", \"30-90\", \"180-365\", \"30-90\", \"90-180\", \"30-90\", \"90-180\", \"30-90\", \"180-365\", \"90-180\", \"90-180\", \"30-90\", \"30-90\", \"30-90\", \"30-90\", \"90-180\", \"90-180\", \"90-180\", \"90-180\", \"30-90\", \"90-180\", \"180-365\", \"30-90\", \"30-90\", \"180-365\", \"90-180\", \"90-180\", \"180-365\", \"180-365\", \"90-180\", \"90-180\", \"90-180\", \"180-365\", \"30-90\", \"30-90\", \"90-180\", \"30-90\", \"30-90\", \"90-180\", \"180-365\", \"180-365\", \"90-180\", \"0-30\", \"90-180\", \"180-365\", \"180-365\", \"180-365\", \"180-365\", \"90-180\", \"180-365\", \"30-90\", \"90-180\", \"30-90\", \"180-365\", \"90-180\", \"90-180\", \"90-180\", \"30-90\", \"90-180\", \"30-90\", \"0-30\", \"180-365\", \"90-180\", \"90-180\", \"180-365\", \"90-180\", \"90-180\", \"30-90\", \"90-180\", \"180-365\", \"30-90\", \"90-180\", \"90-180\", \"30-90\", \"90-180\", \"30-90\", \"30-90\", \"180-365\", \"30-90\", \"180-365\", \"90-180\", \"30-90\", \"90-180\", \"90-180\", \"90-180\", \"30-90\", \"30-90\", \"90-180\", \"30-90\", \"180-365\", \"30-90\", \"90-180\", \"90-180\", \"90-180\", \"30-90\", \"30-90\", \"90-180\", \"90-180\", \"90-180\", \"90-180\", \"90-180\", \"90-180\", \"90-180\", \"90-180\", \"30-90\", \"30-90\", \"90-180\", \"90-180\", \"90-180\", \"90-180\", \"30-90\", \"90-180\", \"30-90\", \"30-90\", \"90-180\", \"180-365\", \"90-180\", \"180-365\", \"90-180\", \"90-180\", \"90-180\", \"90-180\", \"90-180\", \"90-180\", \"180-365\", \"90-180\", \"30-90\", \"90-180\", \"30-90\", \"90-180\", \"30-90\", \"90-180\", \"90-180\", \"30-90\", \"90-180\", \"90-180\", \"90-180\", \"90-180\", \"90-180\", \"90-180\", \"90-180\", \"90-180\", \"90-180\", \"180-365\", \"180-365\", \"180-365\", \"30-90\", \"30-90\", \"30-90\", \"90-180\", \"90-180\", \"90-180\", \"30-90\"], \"xaxis\": \"x\", \"y\": [1, 9, 13, 16, 20, 25, 36, 37, 42, 43, 45, 49, 56, 68, 73, 78, 80, 81, 87, 88, 107, 126, 130, 147, 150, 151, 160, 169, 191, 198, 209, 221, 233, 238, 251, 264, 303, 331, 378, 423, 430, 477, 487, 494, 500, 511, 527, 568, 588, 601, 605, 614, 615, 630, 645, 665, 666, 744, 747, 800, 814, 866, 995, 996, 1000, 1004, 1041, 1044, 1171, 1217, 1232, 1254, 1277, 1282, 1306, 1332, 1349, 1378, 1465, 1485, 1494, 1562, 1574, 1575, 1576, 1578, 1630, 1752, 1859, 1860, 1901, 1995, 1999, 2018, 2067, 2137, 2152, 2153, 2175, 2178, 2302, 2372, 2384, 2423, 2426, 2507, 2585, 2601, 2686, 2754, 2979, 3118, 3206, 3313, 3385, 3386, 3707, 3734, 4007, 4033, 4160, 4185, 4245, 4427, 4466, 4566, 4660, 4823, 4872, 5192, 5354, 5374, 5710, 5765, 5946, 6134, 6229, 6539, 6788, 7063, 7136, 7160, 7594, 7852, 8122, 8252, 8691, 9233, 9478, 9549, 9712, 9813, 10716, 10750, 10890, 11002, 11243, 11551, 12543, 12726, 13116, 13195, 13882, 14432, 14606, 14640, 14774, 14895, 14915, 15047, 16318, 16381, 16717, 17230, 17463, 17714, 18052, 18459, 18684, 19078, 19743, 20084, 21057, 21059, 21080, 21094, 21095, 21101, 21103, 21115, 21127, 21140, 21144, 21147, 21160, 21175, 21194, 21206, 21240, 21242, 21259, 21261, 21263, 21265, 21267, 21274, 21278, 21285, 21290, 21292, 21329, 21372, 21374, 21377, 21381, 21385, 21403, 21407, 21417, 21419, 21425, 21428, 21467, 21488, 21512, 21531, 21532, 21546, 21550, 21555, 21559, 21571, 21572, 21573, 21605, 21606, 21625, 21688, 21693, 21731, 21735, 21762, 21788, 21794, 21854, 21889, 21895, 21903, 21927, 21943, 21978, 22021, 22035, 22180, 22220, 22244, 22260, 22280, 22296, 22309, 22315, 22338, 22356, 22366, 22375, 22403, 22435, 22485, 22499, 22539, 22541, 22628, 22708, 22757, 22779, 22860, 22895, 22917, 22929, 22932, 22958, 22973, 22981, 23046, 23051, 23055, 23087, 23102, 23155, 23186, 23194, 23200, 23213, 23216, 23219, 23250, 23252, 23255, 23295, 23323, 23334, 23401, 23407, 23426, 23450, 23453, 23468, 23469, 23474, 23490, 23506, 23519, 23531, 23532, 23583, 23589, 23592, 23628, 23657, 23715, 23722, 23756, 23764, 23783, 23872, 23906, 23910, 23927, 23986, 24022, 24035, 24074, 24111, 24168, 24189, 24223, 24264, 24283, 24335, 24337, 24360, 24425, 24434, 24501, 24528, 24585, 24593, 24653, 24703, 24714, 24724, 24760, 24807, 24853, 24940, 24964, 24995, 25054, 25070, 25082, 25099, 25165, 25235, 25305, 25370, 25377, 25480, 25581, 25590, 25599, 25601, 25625, 25633, 25648, 25689, 25811, 25908, 25941, 26059, 26105, 26280, 26300, 26340, 26363, 26386, 26457, 26475, 26489, 26543, 26556, 26602, 26857, 26902, 26911, 26924, 27238, 27255, 27320, 27348, 27362, 27420, 27475, 27495, 27548, 27597, 27634, 27644, 27667, 27693, 27908, 28288, 28290, 28395, 28494, 28507, 28658, 28721, 28845, 28882, 28945, 29205, 29302, 29346, 29432, 29533, 29670, 29685, 29688, 29738, 29779, 30081, 30146, 30301, 30346, 30355, 30479, 30507, 30509, 30517, 30529, 30561, 30648, 30712, 30714, 30722, 30769, 30812, 30853, 30869, 30983, 31060, 31115, 31340, 31345, 31404, 31444, 31796, 31875, 31893, 31917, 31918, 32000, 32202, 32256, 32362, 32553, 32662, 32725, 32734, 32904, 32968, 33051, 33139, 33199, 33292, 33469, 33560, 33626, 33634, 33861, 33930, 33947, 34143, 34205, 34237, 34283, 34314, 34437, 34489, 34519, 34729, 34734, 34816, 34905, 35009, 35107, 35221, 35490, 35576, 35701, 35873, 36207, 36654, 36689, 36699, 36714, 36749, 36812, 36838, 37010, 37036, 37221, 37465, 37657, 37779, 37828, 37869, 37890, 37911, 38066, 38094, 38141, 38158, 38159, 38211, 38234, 38303, 38377, 38689, 38749, 38784, 38791, 38813, 38857, 38892, 38953, 39298, 39460, 39564, 39691, 40374, 40506, 40590, 40661, 40671, 41048, 41130, 41201, 41637, 41639, 41667, 41704, 41718, 42026, 42200, 42252, 42664, 42701, 42724, 42779, 42824, 42988, 43080, 43300, 43425, 43428, 43446, 43504, 43601, 43716, 43957, 43998, 44158, 44246, 44306, 44396, 44514, 44583, 44670, 45017, 45150, 45171, 45218, 45270, 45273, 45297, 45382, 45473, 45542, 46000, 46161, 46235, 46425, 46621, 46788, 46925, 46969, 47104, 47230, 98066, 98070, 98413, 98414, 98415, 98926, 98989, 99206, 99583, 101881, 101893, 102535, 102753, 102908, 103789, 103821, 103939, 104446, 104447, 104451, 104603, 104619, 104695, 104844, 104846, 104847, 104848, 105161, 105218, 105284, 105587, 105607, 105608, 105613, 106134, 106139, 106339, 106346, 106471, 106722, 106762, 106775, 106776, 106781, 106796, 106797, 106800, 106858, 106885, 106900, 106914, 106935, 107019, 107026, 107060, 107076, 107082, 107105, 107184, 107186, 107225, 107340, 107415, 107646, 107729, 107903, 108678, 108828, 109463, 109879, 109903, 110064, 110068, 110114, 110290, 110306, 110319, 110320, 110442, 110444, 110447, 110467, 110513, 110837, 110840, 110848, 110937, 111055, 111056, 111063, 111095, 111104, 111136, 111307, 111560, 111792, 111796, 111799, 111807, 111818, 111883, 112398, 112644, 113006, 113036, 113044, 113442, 113447, 113515, 113627, 113768, 113770, 113771, 113782, 113785, 113807, 114010, 114108, 114164, 114166, 114299, 114354, 114372, 114375, 114542, 114673, 114744, 114823, 114880, 114898, 114906, 114947, 114954, 115144, 115148, 115179, 115276, 115658, 115808, 115819, 115856, 115858, 116033, 116072, 116073, 116092, 116173, 116288, 116290, 116343, 116449, 116458, 116474, 116541, 116589, 116605, 116660, 116676, 116772, 116828, 116841, 117001, 117134, 117144, 117150, 117164, 117210, 117230, 117350, 117351, 117360, 117373, 117439, 117716, 117804, 118116, 118126, 118183, 118188, 118287, 118406, 118423, 118444, 118457, 118467, 118928, 119122, 119132, 119335, 119473, 119486, 119502, 119507, 119531, 119818, 119859, 119955, 120077, 120081, 120094, 120126, 120299, 120375, 120382, 120384, 120409, 120410, 120411, 120412, 120413, 120415, 120417, 120687, 120784, 120793, 120828, 121006, 121018, 121023, 121286, 121288, 121308, 121343, 121526, 121584, 121646, 121745, 121765, 121818, 121841, 121893, 121894, 121940, 121963, 122004, 122013, 122023, 122031, 122078], \"yaxis\": \"y\"}],\n",
       "                        {\"barmode\": \"relative\", \"legend\": {\"tracegroupgap\": 0}, \"margin\": {\"t\": 60}, \"template\": {\"data\": {\"bar\": [{\"error_x\": {\"color\": \"#2a3f5f\"}, \"error_y\": {\"color\": \"#2a3f5f\"}, \"marker\": {\"line\": {\"color\": \"#E5ECF6\", \"width\": 0.5}}, \"type\": \"bar\"}], \"barpolar\": [{\"marker\": {\"line\": {\"color\": \"#E5ECF6\", \"width\": 0.5}}, \"type\": \"barpolar\"}], \"carpet\": [{\"aaxis\": {\"endlinecolor\": \"#2a3f5f\", \"gridcolor\": \"white\", \"linecolor\": \"white\", \"minorgridcolor\": \"white\", \"startlinecolor\": \"#2a3f5f\"}, \"baxis\": {\"endlinecolor\": \"#2a3f5f\", \"gridcolor\": \"white\", \"linecolor\": \"white\", \"minorgridcolor\": \"white\", \"startlinecolor\": \"#2a3f5f\"}, \"type\": \"carpet\"}], \"choropleth\": [{\"colorbar\": {\"outlinewidth\": 0, \"ticks\": \"\"}, \"type\": \"choropleth\"}], \"contour\": [{\"colorbar\": {\"outlinewidth\": 0, \"ticks\": \"\"}, \"colorscale\": [[0.0, \"#0d0887\"], [0.1111111111111111, \"#46039f\"], [0.2222222222222222, \"#7201a8\"], [0.3333333333333333, \"#9c179e\"], [0.4444444444444444, \"#bd3786\"], [0.5555555555555556, \"#d8576b\"], [0.6666666666666666, \"#ed7953\"], [0.7777777777777778, \"#fb9f3a\"], [0.8888888888888888, \"#fdca26\"], [1.0, \"#f0f921\"]], \"type\": \"contour\"}], \"contourcarpet\": [{\"colorbar\": {\"outlinewidth\": 0, \"ticks\": \"\"}, \"type\": \"contourcarpet\"}], \"heatmap\": [{\"colorbar\": {\"outlinewidth\": 0, \"ticks\": \"\"}, \"colorscale\": [[0.0, \"#0d0887\"], [0.1111111111111111, \"#46039f\"], [0.2222222222222222, \"#7201a8\"], [0.3333333333333333, \"#9c179e\"], [0.4444444444444444, \"#bd3786\"], [0.5555555555555556, \"#d8576b\"], [0.6666666666666666, \"#ed7953\"], [0.7777777777777778, \"#fb9f3a\"], [0.8888888888888888, \"#fdca26\"], [1.0, \"#f0f921\"]], \"type\": \"heatmap\"}], \"heatmapgl\": [{\"colorbar\": {\"outlinewidth\": 0, \"ticks\": \"\"}, \"colorscale\": [[0.0, \"#0d0887\"], [0.1111111111111111, \"#46039f\"], [0.2222222222222222, \"#7201a8\"], [0.3333333333333333, \"#9c179e\"], [0.4444444444444444, \"#bd3786\"], [0.5555555555555556, \"#d8576b\"], [0.6666666666666666, \"#ed7953\"], [0.7777777777777778, \"#fb9f3a\"], [0.8888888888888888, \"#fdca26\"], [1.0, \"#f0f921\"]], \"type\": \"heatmapgl\"}], \"histogram\": [{\"marker\": {\"colorbar\": {\"outlinewidth\": 0, \"ticks\": \"\"}}, \"type\": \"histogram\"}], \"histogram2d\": [{\"colorbar\": {\"outlinewidth\": 0, \"ticks\": \"\"}, \"colorscale\": [[0.0, \"#0d0887\"], [0.1111111111111111, \"#46039f\"], [0.2222222222222222, \"#7201a8\"], [0.3333333333333333, \"#9c179e\"], [0.4444444444444444, \"#bd3786\"], [0.5555555555555556, \"#d8576b\"], [0.6666666666666666, \"#ed7953\"], [0.7777777777777778, \"#fb9f3a\"], [0.8888888888888888, \"#fdca26\"], [1.0, \"#f0f921\"]], \"type\": \"histogram2d\"}], \"histogram2dcontour\": [{\"colorbar\": {\"outlinewidth\": 0, \"ticks\": \"\"}, \"colorscale\": [[0.0, \"#0d0887\"], [0.1111111111111111, \"#46039f\"], [0.2222222222222222, \"#7201a8\"], [0.3333333333333333, \"#9c179e\"], [0.4444444444444444, \"#bd3786\"], [0.5555555555555556, \"#d8576b\"], [0.6666666666666666, \"#ed7953\"], [0.7777777777777778, \"#fb9f3a\"], [0.8888888888888888, \"#fdca26\"], [1.0, \"#f0f921\"]], \"type\": \"histogram2dcontour\"}], \"mesh3d\": [{\"colorbar\": {\"outlinewidth\": 0, \"ticks\": \"\"}, \"type\": \"mesh3d\"}], \"parcoords\": [{\"line\": {\"colorbar\": {\"outlinewidth\": 0, \"ticks\": \"\"}}, \"type\": \"parcoords\"}], \"pie\": [{\"automargin\": true, \"type\": \"pie\"}], \"scatter\": [{\"marker\": {\"colorbar\": {\"outlinewidth\": 0, \"ticks\": \"\"}}, \"type\": \"scatter\"}], \"scatter3d\": [{\"line\": {\"colorbar\": {\"outlinewidth\": 0, \"ticks\": \"\"}}, \"marker\": {\"colorbar\": {\"outlinewidth\": 0, \"ticks\": \"\"}}, \"type\": \"scatter3d\"}], \"scattercarpet\": [{\"marker\": {\"colorbar\": {\"outlinewidth\": 0, \"ticks\": \"\"}}, \"type\": \"scattercarpet\"}], \"scattergeo\": [{\"marker\": {\"colorbar\": {\"outlinewidth\": 0, \"ticks\": \"\"}}, \"type\": \"scattergeo\"}], \"scattergl\": [{\"marker\": {\"colorbar\": {\"outlinewidth\": 0, \"ticks\": \"\"}}, \"type\": \"scattergl\"}], \"scattermapbox\": [{\"marker\": {\"colorbar\": {\"outlinewidth\": 0, \"ticks\": \"\"}}, \"type\": \"scattermapbox\"}], \"scatterpolar\": [{\"marker\": {\"colorbar\": {\"outlinewidth\": 0, \"ticks\": \"\"}}, \"type\": \"scatterpolar\"}], \"scatterpolargl\": [{\"marker\": {\"colorbar\": {\"outlinewidth\": 0, \"ticks\": \"\"}}, \"type\": \"scatterpolargl\"}], \"scatterternary\": [{\"marker\": {\"colorbar\": {\"outlinewidth\": 0, \"ticks\": \"\"}}, \"type\": \"scatterternary\"}], \"surface\": [{\"colorbar\": {\"outlinewidth\": 0, \"ticks\": \"\"}, \"colorscale\": [[0.0, \"#0d0887\"], [0.1111111111111111, \"#46039f\"], [0.2222222222222222, \"#7201a8\"], [0.3333333333333333, \"#9c179e\"], [0.4444444444444444, \"#bd3786\"], [0.5555555555555556, \"#d8576b\"], [0.6666666666666666, \"#ed7953\"], [0.7777777777777778, \"#fb9f3a\"], [0.8888888888888888, \"#fdca26\"], [1.0, \"#f0f921\"]], \"type\": \"surface\"}], \"table\": [{\"cells\": {\"fill\": {\"color\": \"#EBF0F8\"}, \"line\": {\"color\": \"white\"}}, \"header\": {\"fill\": {\"color\": \"#C8D4E3\"}, \"line\": {\"color\": \"white\"}}, \"type\": \"table\"}]}, \"layout\": {\"annotationdefaults\": {\"arrowcolor\": \"#2a3f5f\", \"arrowhead\": 0, \"arrowwidth\": 1}, \"coloraxis\": {\"colorbar\": {\"outlinewidth\": 0, \"ticks\": \"\"}}, \"colorscale\": {\"diverging\": [[0, \"#8e0152\"], [0.1, \"#c51b7d\"], [0.2, \"#de77ae\"], [0.3, \"#f1b6da\"], [0.4, \"#fde0ef\"], [0.5, \"#f7f7f7\"], [0.6, \"#e6f5d0\"], [0.7, \"#b8e186\"], [0.8, \"#7fbc41\"], [0.9, \"#4d9221\"], [1, \"#276419\"]], \"sequential\": [[0.0, \"#0d0887\"], [0.1111111111111111, \"#46039f\"], [0.2222222222222222, \"#7201a8\"], [0.3333333333333333, \"#9c179e\"], [0.4444444444444444, \"#bd3786\"], [0.5555555555555556, \"#d8576b\"], [0.6666666666666666, \"#ed7953\"], [0.7777777777777778, \"#fb9f3a\"], [0.8888888888888888, \"#fdca26\"], [1.0, \"#f0f921\"]], \"sequentialminus\": [[0.0, \"#0d0887\"], [0.1111111111111111, \"#46039f\"], [0.2222222222222222, \"#7201a8\"], [0.3333333333333333, \"#9c179e\"], [0.4444444444444444, \"#bd3786\"], [0.5555555555555556, \"#d8576b\"], [0.6666666666666666, \"#ed7953\"], [0.7777777777777778, \"#fb9f3a\"], [0.8888888888888888, \"#fdca26\"], [1.0, \"#f0f921\"]]}, \"colorway\": [\"#636efa\", \"#EF553B\", \"#00cc96\", \"#ab63fa\", \"#FFA15A\", \"#19d3f3\", \"#FF6692\", \"#B6E880\", \"#FF97FF\", \"#FECB52\"], \"font\": {\"color\": \"#2a3f5f\"}, \"geo\": {\"bgcolor\": \"white\", \"lakecolor\": \"white\", \"landcolor\": \"#E5ECF6\", \"showlakes\": true, \"showland\": true, \"subunitcolor\": \"white\"}, \"hoverlabel\": {\"align\": \"left\"}, \"hovermode\": \"closest\", \"mapbox\": {\"style\": \"light\"}, \"paper_bgcolor\": \"white\", \"plot_bgcolor\": \"#E5ECF6\", \"polar\": {\"angularaxis\": {\"gridcolor\": \"white\", \"linecolor\": \"white\", \"ticks\": \"\"}, \"bgcolor\": \"#E5ECF6\", \"radialaxis\": {\"gridcolor\": \"white\", \"linecolor\": \"white\", \"ticks\": \"\"}}, \"scene\": {\"xaxis\": {\"backgroundcolor\": \"#E5ECF6\", \"gridcolor\": \"white\", \"gridwidth\": 2, \"linecolor\": \"white\", \"showbackground\": true, \"ticks\": \"\", \"zerolinecolor\": \"white\"}, \"yaxis\": {\"backgroundcolor\": \"#E5ECF6\", \"gridcolor\": \"white\", \"gridwidth\": 2, \"linecolor\": \"white\", \"showbackground\": true, \"ticks\": \"\", \"zerolinecolor\": \"white\"}, \"zaxis\": {\"backgroundcolor\": \"#E5ECF6\", \"gridcolor\": \"white\", \"gridwidth\": 2, \"linecolor\": \"white\", \"showbackground\": true, \"ticks\": \"\", \"zerolinecolor\": \"white\"}}, \"shapedefaults\": {\"line\": {\"color\": \"#2a3f5f\"}}, \"ternary\": {\"aaxis\": {\"gridcolor\": \"white\", \"linecolor\": \"white\", \"ticks\": \"\"}, \"baxis\": {\"gridcolor\": \"white\", \"linecolor\": \"white\", \"ticks\": \"\"}, \"bgcolor\": \"#E5ECF6\", \"caxis\": {\"gridcolor\": \"white\", \"linecolor\": \"white\", \"ticks\": \"\"}}, \"title\": {\"x\": 0.05}, \"xaxis\": {\"automargin\": true, \"gridcolor\": \"white\", \"linecolor\": \"white\", \"ticks\": \"\", \"title\": {\"standoff\": 15}, \"zerolinecolor\": \"white\", \"zerolinewidth\": 2}, \"yaxis\": {\"automargin\": true, \"gridcolor\": \"white\", \"linecolor\": \"white\", \"ticks\": \"\", \"title\": {\"standoff\": 15}, \"zerolinecolor\": \"white\", \"zerolinewidth\": 2}}}, \"xaxis\": {\"anchor\": \"y\", \"domain\": [0.0, 1.0], \"title\": {\"text\": \"x\"}}, \"yaxis\": {\"anchor\": \"x\", \"domain\": [0.0, 1.0], \"title\": {\"text\": \"y\"}}},\n",
       "                        {\"responsive\": true}\n",
       "                    ).then(function(){\n",
       "                            \n",
       "var gd = document.getElementById('969b20ce-0d29-47d2-9c1d-88ec829a2a47');\n",
       "var x = new MutationObserver(function (mutations, observer) {{\n",
       "        var display = window.getComputedStyle(gd).display;\n",
       "        if (!display || display === 'none') {{\n",
       "            console.log([gd, 'removed!']);\n",
       "            Plotly.purge(gd);\n",
       "            observer.disconnect();\n",
       "        }}\n",
       "}});\n",
       "\n",
       "// Listen for the removal of the full notebook cells\n",
       "var notebookContainer = gd.closest('#notebook-container');\n",
       "if (notebookContainer) {{\n",
       "    x.observe(notebookContainer, {childList: true});\n",
       "}}\n",
       "\n",
       "// Listen for the clearing of the current output cell\n",
       "var outputEl = gd.closest('.output');\n",
       "if (outputEl) {{\n",
       "    x.observe(outputEl, {childList: true});\n",
       "}}\n",
       "\n",
       "                        })\n",
       "                };\n",
       "                });\n",
       "            </script>\n",
       "        </div>"
      ]
     },
     "metadata": {},
     "output_type": "display_data"
    }
   ],
   "source": [
    "import plotly.express as px\n",
    "\n",
    "px.bar(x=ads_bins.diff_categorical, y=ads_bins.client_union_id)"
   ]
  },
  {
   "cell_type": "code",
   "execution_count": null,
   "metadata": {},
   "outputs": [],
   "source": []
  }
 ],
 "metadata": {
  "kernelspec": {
   "display_name": "Python 3",
   "language": "python",
   "name": "python3"
  },
  "language_info": {
   "codemirror_mode": {
    "name": "ipython",
    "version": 3
   },
   "file_extension": ".py",
   "mimetype": "text/x-python",
   "name": "python",
   "nbconvert_exporter": "python",
   "pygments_lexer": "ipython3",
   "version": "3.7.3"
  }
 },
 "nbformat": 4,
 "nbformat_minor": 4
}
